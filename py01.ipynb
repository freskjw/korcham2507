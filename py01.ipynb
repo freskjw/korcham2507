{
 "cells": [
  {
   "cell_type": "code",
   "execution_count": 1,
   "id": "b900cb22-5adc-42b6-892c-0f19d571496d",
   "metadata": {},
   "outputs": [
    {
     "name": "stdout",
     "output_type": "stream",
     "text": [
      "Python 3.13.3\n"
     ]
    }
   ],
   "source": [
    "# 파이썬 시작\n",
    "!python -V"
   ]
  },
  {
   "cell_type": "code",
   "execution_count": null,
   "id": "74a9acfe-5a7c-4557-b72d-f38a53b4fcbb",
   "metadata": {},
   "outputs": [
    {
     "name": "stdout",
     "output_type": "stream",
     "text": [
      "pip 25.1.1 from C:\\Users\\user\\AppData\\Local\\Programs\\Python\\Python313\\Lib\\site-packages\\pip (python 3.13)\n",
      "\n"
     ]
    }
   ],
   "source": [
    "!pip -V"
   ]
  },
  {
   "cell_type": "markdown",
   "id": "66bb97ca",
   "metadata": {},
   "source": [
    "# 내장함수"
   ]
  },
  {
   "cell_type": "code",
   "execution_count": 1,
   "id": "8e262c06",
   "metadata": {},
   "outputs": [
    {
     "name": "stdout",
     "output_type": "stream",
     "text": [
      "3\n",
      "1.2\n"
     ]
    }
   ],
   "source": [
    "# abs 절대값을 양수변환\n",
    "print(abs(-3))\n",
    "print(abs(-1.2))"
   ]
  },
  {
   "cell_type": "code",
   "execution_count": 11,
   "id": "56ad1fcf",
   "metadata": {},
   "outputs": [
    {
     "name": "stdout",
     "output_type": "stream",
     "text": [
      "True\n",
      "False\n",
      "True\n"
     ]
    }
   ],
   "source": [
    "# all 하나라도 0이면 False\n",
    "print(all([1,1,1]))\n",
    "print(all([1,1,1,1,1,1,1,1,1,0,1,1,1,1,2,2,3,5,5,1]))\n",
    "print(all([]))  # 빈 리스트는 True로 간주"
   ]
  },
  {
   "cell_type": "code",
   "execution_count": 17,
   "id": "974ef834",
   "metadata": {},
   "outputs": [
    {
     "name": "stdout",
     "output_type": "stream",
     "text": [
      "True\n",
      "False\n",
      "False\n",
      "False\n"
     ]
    }
   ],
   "source": [
    "# any 하나라도 0이 아니면 True\n",
    "print(any([1,2,3,5,4,8,0,2,5,4,6]))\n",
    "print(any([0,0,0]))\n",
    "print(any([0,False,\"\"]))\n",
    "print(any([]))  # 빈 리스트는 False로 간주"
   ]
  },
  {
   "cell_type": "code",
   "execution_count": null,
   "id": "d0fbca21",
   "metadata": {},
   "outputs": [
    {
     "name": "stdout",
     "output_type": "stream",
     "text": [
      "A\n",
      "G\n",
      "65\n",
      "71\n",
      "가\n",
      "\u001e\n"
     ]
    }
   ],
   "source": [
    "# 아스키코드(ASCII code) - 정의 : 컴퓨터가 문자를 숫자로 표현하는 방법\n",
    "# 아스키코드는 0부터 127까지의 숫자로 구성된 문자 인코딩 체계입니다.\n",
    "# 유니코드 (Unicode)는 전 세계의 모든 문자를 표현할 수 있는 문자 인코딩 체계로, 아스키코드를 포함합니다.\n",
    "print(chr(65))  # 65는 'A'에 해당\n",
    "print(chr(71))  # 71는 'G'에 해당\n",
    "print(ord('A')) # 'A'의 아스키 코드 값은 65\n",
    "print(ord('G'))  # 'G'의 아스키 코드 값은 71\n",
    "print(chr(44032))  # 44032는 '가'에 해당\n",
    "ox = 30 # 30은 16진수로 0x1E\n",
    "print(chr(int(hex(ox)[2:], 16))) # '0x1e'에서 '0x'를 제거하고 16진수로 변환 후 문자로 변환\n",
    "print(chr(int(hex(ox),16))) # '0'에 해당"
   ]
  },
  {
   "cell_type": "code",
   "execution_count": null,
   "id": "3a1cd07d",
   "metadata": {},
   "outputs": [
    {
     "name": "stdout",
     "output_type": "stream",
     "text": [
      "['__add__', '__class__', '__class_getitem__', '__contains__', '__delattr__', '__delitem__', '__dir__', '__doc__', '__eq__', '__format__', '__ge__', '__getattribute__', '__getitem__', '__getstate__', '__gt__', '__hash__', '__iadd__', '__imul__', '__init__', '__init_subclass__', '__iter__', '__le__', '__len__', '__lt__', '__mul__', '__ne__', '__new__', '__reduce__', '__reduce_ex__', '__repr__', '__reversed__', '__rmul__', '__setattr__', '__setitem__', '__sizeof__', '__str__', '__subclasshook__', 'append', 'clear', 'copy', 'count', 'extend', 'index', 'insert', 'pop', 'remove', 'reverse', 'sort']\n"
     ]
    }
   ],
   "source": [
    "# dir 객체가 가지고 있는 함수를 보여줌\n",
    "dir([1,2,3]))  # 리스트 객체의 메소드와 속성\n",
    "#dir((1,2,3))\n",
    "dir({'1':'a', '2':'b', '3':'c'})  # 딕셔너리 객체의 메소드와 속성\n"
   ]
  },
  {
   "cell_type": "code",
   "execution_count": null,
   "id": "af129b48",
   "metadata": {},
   "outputs": [
    {
     "name": "stdout",
     "output_type": "stream",
     "text": [
      "3\n",
      "1\n",
      "(3, 1)\n"
     ]
    }
   ],
   "source": [
    "print(13 // 4) # 몫 연산\n",
    "print(13 % 4)  # 나머지 연산\n",
    "print(divmod(13, 4))  # 몫과 나머지를 동시에 구함 튜플로 저장"
   ]
  },
  {
   "cell_type": "code",
   "execution_count": 40,
   "id": "8dabfda0",
   "metadata": {},
   "outputs": [
    {
     "name": "stdout",
     "output_type": "stream",
     "text": [
      "range(1, 10)\n"
     ]
    }
   ],
   "source": [
    "print(range(1,10))\n"
   ]
  },
  {
   "cell_type": "code",
   "execution_count": 44,
   "id": "b3d77a4a",
   "metadata": {},
   "outputs": [
    {
     "name": "stdout",
     "output_type": "stream",
     "text": [
      "1 번째 apple\n",
      "2 번째 banana\n",
      "3 번째 mango\n",
      "4 번째 kiwi\n"
     ]
    }
   ],
   "source": [
    "fruit = ['apple', 'banana', 'mango', 'kiwi']\n",
    "\n",
    "for i,f in enumerate(fruit):\n",
    "    print((i+1),\"번째\",f)"
   ]
  },
  {
   "cell_type": "code",
   "execution_count": 47,
   "id": "c0b51362",
   "metadata": {},
   "outputs": [
    {
     "name": "stdout",
     "output_type": "stream",
     "text": [
      "1 apple dog\n",
      "2 banana cat\n",
      "3 mango rabbit\n",
      "4 kiwi tiger\n"
     ]
    }
   ],
   "source": [
    "# enumerate(), zip() 함수 사용 예시\n",
    "fruit = ['apple', 'banana', 'mango', 'kiwi']\n",
    "amimals = ['dog', 'cat','rabbit','tiger', 'lion']\n",
    "for i, (f, a) in enumerate(zip(fruit, amimals), start=1):\n",
    "    print(i, f, a)"
   ]
  },
  {
   "cell_type": "code",
   "execution_count": 2,
   "id": "57e31ff9",
   "metadata": {},
   "outputs": [
    {
     "name": "stdout",
     "output_type": "stream",
     "text": [
      "['좋아', '행복', '멋져'] 3\n",
      "['슬퍼', '짜증나'] 2\n",
      "긍정적인 기분이네요!\n"
     ]
    }
   ],
   "source": [
    "positive_words = [\"좋아\",\"행복\",\"멋져\",\"최고\",\"사랑해\"]\n",
    "negative_words = [\"싫어\",\"슬퍼\",\"짜증나\",\"최악\",\"나빠\"]\n",
    "text = input(\"당신의 기분을 한 문장으로 표현해주세요.\")\n",
    "# 방법1\n",
    "\n",
    "#for v in positive_words:\n",
    "#    if v in text:\n",
    "#        print(\"긍정적인 기분이네요!\")\n",
    "#        break\n",
    "\n",
    "#for v in negative_words:\n",
    "#    if v in text:\n",
    "#        print(\"부정적인 기분이네요!\")\n",
    "#        break\n",
    "\n",
    "# 방법2\n",
    "#if any(v in text for v in positive_words):\n",
    "#    print(\"긍정적인 기분이네요!\")\n",
    "#elif any(v in text for v in negative_words):\n",
    "#    print(\"부정적인 기분이네요!\")\n",
    "#else:\n",
    "#    print(\"기분이 보통이네요.\")\n",
    "\n",
    "# 방법3\n",
    "pos = [v for v in positive_words if v in text]\n",
    "print(pos, len(pos))\n",
    "neg = [v for v in negative_words if v in text]\n",
    "print(neg, len(neg))\n",
    "if len(pos) > len(neg):\n",
    "    print(\"긍정적인 기분이네요!\")\n",
    "elif len(neg) > len(pos):\n",
    "    print(\"부정적인 기분이네요!\")\n",
    "else:\n",
    "    print(\"기분이 보통이네요.\")"
   ]
  },
  {
   "cell_type": "code",
   "execution_count": null,
   "id": "672e0c4d",
   "metadata": {},
   "outputs": [
    {
     "name": "stdout",
     "output_type": "stream",
     "text": [
      "['행복하다', '사랑', '하다', '슬프다']\n"
     ]
    }
   ],
   "source": [
    "# !pip install konlpy\n",
    "from konlpy.tag import Okt\n",
    "\n",
    "# 한글 형태소 분석기\n",
    "okt = Okt()\n",
    "\n",
    "# positive_words = [\"좋아\",\"행복\",\"멋져\",\"최고\",\"사랑해\"]\n",
    "# negative_words = [\"싫어\",\"슬퍼\",\"짜증나\",\"최악\",\"나빠\"]\n",
    "text = input(\"당신의 기분을 한 문장으로 표현해주세요.\")\n",
    "\n",
    "words = okt.morphs(text, stem=True) # 형태소 단위로 분리\n",
    "print(words)"
   ]
  },
  {
   "cell_type": "markdown",
   "id": "0aeab878",
   "metadata": {},
   "source": [
    "## filter와 map"
   ]
  },
  {
   "cell_type": "code",
   "execution_count": null,
   "id": "815f1450",
   "metadata": {},
   "outputs": [
    {
     "name": "stdout",
     "output_type": "stream",
     "text": [
      "[1, 2, 3, 4, 3, 5]\n"
     ]
    }
   ],
   "source": [
    "# filter 는 true인 값만 남김\n",
    "data = [1, 2, 3, 4, -5, 0, -1, 3, -4, 5]\n",
    "def pos(v):\n",
    "    return v > 0\n",
    "# print(list(filter(pos,data)))\n",
    "\n",
    "print(pos(data))\n"
   ]
  },
  {
   "cell_type": "code",
   "execution_count": null,
   "id": "5a7a6b09",
   "metadata": {},
   "outputs": [
    {
     "name": "stdout",
     "output_type": "stream",
     "text": [
      "[1, 2, 3, 4, 3, 5]\n"
     ]
    }
   ],
   "source": [
    "# filter 는 true인 값만 남김\n",
    "data = [1, 2, 3, 4, -5, 0, -1, 3, -4, 5]\n",
    "\n",
    "print(list(filter( lambda v : v > 0, data)))"
   ]
  },
  {
   "cell_type": "code",
   "execution_count": 14,
   "id": "ba9d7638",
   "metadata": {},
   "outputs": [
    {
     "name": "stdout",
     "output_type": "stream",
     "text": [
      "[1, 4, 9, 16, 25, 0, 1, 9, 16, 25]\n"
     ]
    }
   ],
   "source": [
    "data = [1, 2, 3, 4, -5, 0, -1, 3, -4, 5]\n",
    "def pow(v):\n",
    "    return v ** 2 #제곱을 반환\n",
    "print(list(map(pow, data)))"
   ]
  },
  {
   "cell_type": "code",
   "execution_count": 15,
   "id": "342e2eb5",
   "metadata": {},
   "outputs": [
    {
     "name": "stdout",
     "output_type": "stream",
     "text": [
      "[1, 4, 9, 16, 25, 0, 1, 9, 16, 25]\n"
     ]
    }
   ],
   "source": [
    "data = [1, 2, 3, 4, -5, 0, -1, 3, -4, 5]\n",
    "print(list(map(lambda v : v**2, data)))"
   ]
  },
  {
   "cell_type": "code",
   "execution_count": null,
   "id": "ccf3a590",
   "metadata": {},
   "outputs": [
    {
     "name": "stdout",
     "output_type": "stream",
     "text": [
      "[1, 3, 5, 7, 9]\n",
      "[2, 4, 6, 8, 10]\n",
      "[11, 12, 13, 14, 15, 16, 17, 18, 19, 20]\n",
      "[10, 20, 30, 40, 50, 60, 70, 80, 90, 100]\n",
      "[11, 24, 39, 56, 75, 96, 119, 144, 171, 200]\n"
     ]
    }
   ],
   "source": [
    "lis = list(range(1,11)) # 1부터 10까지의 숫자를 포함하는 리스트 생성\n",
    "def odd(x):\n",
    "    return x % 2 == 1 # 홀수인 경우메나 True를 반환\n",
    "def even(x):\n",
    "    return x % 2 == 0 # 짝수인 경우에만 True를 반환\n",
    "def add(x):\n",
    "    return x + 10 # 10을 더한 값을 반환\n",
    "def mul(x):\n",
    "    return x * 10 # 10을 곱한 값을 반환\n",
    "def addmul(x):\n",
    "    return (x + 10) * x # 10을 더한 후 x를 곱한 값을 반환\n",
    "\n",
    "print(list(filter(odd,lis))) # 홀수만 필터링\n",
    "print(list(filter(even,lis))) # 짝수만 필터링\n",
    "print(list(map(add,lis))) # 각 요소에 10을 더함\n",
    "print(list(map(mul,lis))) # 각 요소에 10을 곱함\n",
    "print(list(map(addmul,lis))) # 각 요소에 10을 더한 후 곱함\n"
   ]
  },
  {
   "cell_type": "code",
   "execution_count": null,
   "id": "8559f61b",
   "metadata": {},
   "outputs": [],
   "source": [
    "def test():\n",
    "    print(\"This is a test function.\")   # 한번 보여주고 값 자체가 날라감\n",
    "def test2():\n",
    "    return \"This is a test function.\"   # 값을 돌려주는것"
   ]
  },
  {
   "cell_type": "code",
   "execution_count": 7,
   "id": "2d279d28",
   "metadata": {},
   "outputs": [
    {
     "name": "stdout",
     "output_type": "stream",
     "text": [
      "1\n",
      "e\n",
      "104 101 108 108 111\n"
     ]
    }
   ],
   "source": [
    "# min\n",
    "print(min([1,2,3,4,5]))     # 최대값\n",
    "print(min(\"hello\"))         # ASCII 코드 중 최대값\n",
    "print(ord('h'), ord('e'), ord('l'), ord('l'), ord('o'))    # 각 문자에 대한 ASCII 코드의 최대값"
   ]
  },
  {
   "cell_type": "code",
   "execution_count": 17,
   "id": "d327ce3f",
   "metadata": {},
   "outputs": [
    {
     "name": "stdout",
     "output_type": "stream",
     "text": [
      "Python 3.13.3\n"
     ]
    }
   ],
   "source": [
    "!python -V"
   ]
  },
  {
   "cell_type": "code",
   "execution_count": 1,
   "id": "b4839259",
   "metadata": {},
   "outputs": [
    {
     "name": "stdout",
     "output_type": "stream",
     "text": [
      "8\n",
      "65536\n",
      "4294967296\n"
     ]
    }
   ],
   "source": [
    "# pow\n",
    "print(pow(2, 3))  # 2의 3제곱\n",
    "print(pow(2, 16))  # 2의 16제곱\n",
    "print(pow(2, 32))  # 2의 32제곱"
   ]
  },
  {
   "cell_type": "code",
   "execution_count": 2,
   "id": "26cc73ca",
   "metadata": {},
   "outputs": [
    {
     "name": "stdout",
     "output_type": "stream",
     "text": [
      "3\n",
      "3.1\n",
      "3.14\n",
      "3.142\n"
     ]
    }
   ],
   "source": [
    "# round 반올림\n",
    "print(round(3.141592))\n",
    "print(round(3.141592, 1))\n",
    "print(round(3.141592, 2))\n",
    "print(round(3.141592, 3))"
   ]
  },
  {
   "cell_type": "code",
   "execution_count": null,
   "id": "5d55c29d",
   "metadata": {},
   "outputs": [
    {
     "name": "stdout",
     "output_type": "stream",
     "text": [
      "3\n",
      "3\n",
      "3\n",
      "3\n"
     ]
    }
   ],
   "source": [
    "# floor 내림\n",
    "import math\n",
    "print(math.floor(3.141592))"
   ]
  },
  {
   "cell_type": "code",
   "execution_count": null,
   "id": "4ebbc3b5",
   "metadata": {},
   "outputs": [
    {
     "name": "stdout",
     "output_type": "stream",
     "text": [
      "3.141592\n",
      "3.14\n",
      "3.1\n"
     ]
    }
   ],
   "source": [
    "# f 스트링\n",
    "pi = 3.141592\n",
    "print(pi)\n",
    "print(f\"{pi:.2f}\")\n",
    "print(f\"{pi:.1f}\")"
   ]
  },
  {
   "cell_type": "code",
   "execution_count": null,
   "id": "0e78f308",
   "metadata": {},
   "outputs": [
    {
     "name": "stdout",
     "output_type": "stream",
     "text": [
      "[0, 1, 2, 3, 4, 5, 6, 7, 8, 9]\n",
      "[0, 2, 4, 6, 8]\n",
      "[10, 9, 8, 7, 6, 5, 4, 3, 2, 1]\n",
      "[9, 8, 7, 6, 5, 4, 3, 2, 1, 0]\n"
     ]
    }
   ],
   "source": [
    "\n",
    "print(list(range(0, 10, 1)))         # range(10)과 동일\n",
    "print(list(range(0,10,2)))\n",
    "print(list(range(10,0,-1))) \n",
    "print(list(range(9,-1,-1))) "
   ]
  },
  {
   "cell_type": "code",
   "execution_count": 12,
   "id": "82f1ba3b",
   "metadata": {},
   "outputs": [
    {
     "name": "stdout",
     "output_type": "stream",
     "text": [
      "[3, 1, 3, 2, 4, 8, 6, 7, 9, 0]\n",
      "[0, 1, 2, 3, 3, 4, 6, 7, 8, 9]\n",
      "[9, 8, 7, 6, 4, 3, 3, 2, 1, 0]\n"
     ]
    }
   ],
   "source": [
    "# sorted(iterable)  정렬된 리스트로 리턴\n",
    "s0 = [3,1,3,2,4,8,6,7,9,0]\n",
    "s1 = sorted(s0)                 # 오름차순 정렬\n",
    "s2 = sorted(s0, reverse=True)    # 내림차순 정렬\n",
    "print(s0)\n",
    "print(s1)\n",
    "print(s2)"
   ]
  },
  {
   "cell_type": "code",
   "execution_count": 13,
   "id": "11048039",
   "metadata": {},
   "outputs": [
    {
     "name": "stdout",
     "output_type": "stream",
     "text": [
      "23 <class 'int'>\n",
      "23 <class 'str'>\n",
      "23 <class 'int'>\n"
     ]
    }
   ],
   "source": [
    "num = 23\n",
    "st = str(num)           # 숫자를 문자열로 변환\n",
    "print(num, type(num))\n",
    "print(st, type(st))     # 문자열로 변환된 num과 그 타입 출력\n",
    "num2 = int(st)          # 문자열을 다시 숫자로 변환\n",
    "print(num2, type(num2)) # 변환된 num2와 그 타입 출력"
   ]
  },
  {
   "cell_type": "code",
   "execution_count": 18,
   "id": "fd46b0c5",
   "metadata": {},
   "outputs": [
    {
     "name": "stdout",
     "output_type": "stream",
     "text": [
      "43\n",
      "55\n",
      "2550\n"
     ]
    }
   ],
   "source": [
    "s3 = [3,1,3,2,4,8,6,7,9,0]\n",
    "list(range(1,11))\n",
    "print(sum(s3))\n",
    "print(sum(list(range(0,11))))\n",
    "print(sum(list(range(0,101,2))))\n"
   ]
  },
  {
   "cell_type": "code",
   "execution_count": 22,
   "id": "91e91cbb",
   "metadata": {},
   "outputs": [
    {
     "name": "stdout",
     "output_type": "stream",
     "text": [
      " C 드라이브의 볼륨에는 이름이 없습니다.\n",
      " 볼륨 일련 번호: 6046-B3BE\n",
      "\n",
      " C:\\kjw 디렉터리\n",
      "\n",
      "[.]                  [.ipynb_checkpoints] myserver.bat\n",
      "py01.ipynb           test.txt             \n",
      "               3개 파일              12,060 바이트\n",
      "               2개 디렉터리  46,545,072,128 바이트 남음\n"
     ]
    }
   ],
   "source": [
    "!dir/w"
   ]
  },
  {
   "cell_type": "code",
   "execution_count": null,
   "id": "bb63da94",
   "metadata": {},
   "outputs": [
    {
     "name": "stdout",
     "output_type": "stream",
     "text": [
      "\n",
      "새로운 \n"
     ]
    }
   ],
   "source": [
    "# open 으로 파일 읽기\n",
    "f = open(\"C:\\\\kjw\\\\test.txt\", \"r\", encoding=\"utf-8\")           # 파일 열기(읽기모드) / w 쓰기모드, r 읽기모드, a 추가모드\n",
    "# contents = f.read(5)\n",
    "contents = f.read(5)                            # 5바이트 읽기\n",
    "contents = f.readline()                         # 5바이트 읽기\n",
    "print(contents)                              # 파일 내용 출력\n",
    "f.close()                                    # 파일 닫기"
   ]
  },
  {
   "cell_type": "code",
   "execution_count": null,
   "id": "cb2e2e29",
   "metadata": {},
   "outputs": [],
   "source": [
    "# open 으로 파일 쓰기\n",
    "f = open(\"C:\\\\kjw\\\\test.txt\", \"w\", encoding=\"utf-8\")           # 파일 열기(쓰기모드) / w 쓰기모드, r 읽기모드, a 추가모드\n",
    "f.write(\"제가 프로그램으로 내용을 작성하였습니다.\")            # 파일에 내용 쓰기\n",
    "print(\"파일에 내용이 작성되었습니다.\")\n",
    "f.close()"
   ]
  },
  {
   "cell_type": "code",
   "execution_count": 115,
   "id": "586fed58",
   "metadata": {},
   "outputs": [
    {
     "name": "stdout",
     "output_type": "stream",
     "text": [
      "파일에 내용이 작성되었습니다.\n"
     ]
    }
   ],
   "source": [
    "# open 으로 파일 추가\n",
    "f = open(\"C:\\\\kjw\\\\test.txt\", \"a\", encoding=\"utf-8\")           # 파일 열기(쓰기모드) / w 쓰기모드, r 읽기모드, a 추가모드\n",
    "f.write(\"\\n새로운 줄 작성\")            # 파일에 내용 쓰기\n",
    "print(\"파일에 내용이 작성되었습니다.\")\n",
    "f.close()"
   ]
  },
  {
   "cell_type": "code",
   "execution_count": 116,
   "id": "4241f6c6",
   "metadata": {},
   "outputs": [
    {
     "name": "stdout",
     "output_type": "stream",
     "text": [
      "[1, 2, '짝', 4, '오', '짝', 7, 8, '짝', '오', 11, '짝', 13, 14, '오예', 16, 17, '짝', 19, '오', '짝', 22, 23, '짝', '오', 26, '짝', 28, 29, '오예', 31, 32, '짝', 34, '오', '짝', 37, 38, '짝', '오', 41, '짝', 43, 44, '오예', 46, 47, '짝', 49, '오', '짝', 52, 53, '짝', '오', 56, '짝', 58, 59, '오예', 61, 62, '짝', 64, '오', '짝', 67, 68, '짝', '오', 71, '짝', 73, 74, '오예', 76, 77, '짝', 79, '오', '짝', 82, 83, '짝', '오', 86, '짝', 88, 89, '오예', 91, 92, '짝', 94, '오', '짝', 97, 98, '짝']\n",
      "5의 배수는 '오' 3의 백수는 '짝'으로 입력되었습니다.\n"
     ]
    }
   ],
   "source": [
    "# 3, 6, 9로 해서 100까지 파일로 쓰기\n",
    "f = open(\"C:\\\\kjw\\\\삼육구.txt\",\"w\", encoding=\"utf-8\")\n",
    "num = list(range(1,100))\n",
    "def threefive(x):\n",
    "    if x % 15 == 0:\n",
    "        return \"오예\"\n",
    "    elif x % 3 == 0:\n",
    "        return \"짝\"\n",
    "    elif x % 5 == 0:\n",
    "        return \"오\"\n",
    "    else:\n",
    "        return x\n",
    "result = list(map(threefive,num))\n",
    "f.write(str(result))\n",
    "print(result)\n",
    "print(f\"5의 배수는 '오' 3의 백수는 '짝'으로 입력되었습니다.\")\n",
    "f.close()\n"
   ]
  },
  {
   "cell_type": "code",
   "execution_count": 117,
   "id": "552aefba",
   "metadata": {},
   "outputs": [
    {
     "name": "stdout",
     "output_type": "stream",
     "text": [
      "파일로 성적을 저장하였습니다.\n"
     ]
    }
   ],
   "source": [
    "nums = (input(\"점수를 입력하세요\"))\n",
    "nums = [int(x.strip()) for x in nums.split(\",\")]\n",
    "\n",
    "with open(\"C:\\\\kjw\\\\점수입력.txt\",\"w\", encoding=\"utf-8\") as f:\n",
    "    for i in nums:\n",
    "        if i >= 90:\n",
    "            rank = \"A\"\n",
    "        elif i >= 80:\n",
    "            rank = \"B\"\n",
    "        elif i >= 70:\n",
    "            rank = \"C\"\n",
    "        elif i >= 60:\n",
    "            rank = \"D\"\n",
    "        else:\n",
    "            rank = \"F\"\n",
    "        f.write(f\"점수 : {i}, 학점 : {rank}\\n\")\n",
    "    print(f\"파일로 성적을 저장하였습니다.\")"
   ]
  },
  {
   "cell_type": "code",
   "execution_count": 118,
   "id": "3b5b3808",
   "metadata": {},
   "outputs": [
    {
     "name": "stdout",
     "output_type": "stream",
     "text": [
      "파일로 성적을 저장하였습니다\n"
     ]
    }
   ],
   "source": [
    "# if elif else 조건 실습\n",
    "학생들 = [90,82,45,70,60]\n",
    "\n",
    "with open(\"C:\\\\kjw\\\\if조건 연습.txt\", \"w\", encoding=\"utf-8\") as f:\n",
    "    for 점수 in 학생들:\n",
    "        if 점수 >= 90:\n",
    "            학점 = \"A\"\n",
    "        elif 점수 >= 80:\n",
    "            학점 = \"B\"\n",
    "        elif 점수 >= 70:\n",
    "            학점 = \"C\"\n",
    "        elif 점수 >= 60:\n",
    "            학점 = \"D\"\n",
    "        else:\n",
    "            학점 = \"F\"\n",
    "        f.write(f\"점수 : {점수}, 학점 : {학점}\\n\")\n",
    "    print(f\"파일로 성적을 저장하였습니다\")"
   ]
  },
  {
   "cell_type": "code",
   "execution_count": null,
   "id": "30abd8c9",
   "metadata": {},
   "outputs": [
    {
     "name": "stdout",
     "output_type": "stream",
     "text": [
      "오류 발생 : 점수는 0에서 100 사이여야 합니다.\n",
      "파일 비정상 저장\n"
     ]
    }
   ],
   "source": [
    "# if 조건 실습 , 예외처리 try-except-finally\n",
    "학생들 = [90,82,45,710,60,100]\n",
    "try:\n",
    "    f = open(\"C:\\\\kjw\\\\if 조건 실습 2(성적2).txt\",\"w\", encoding = \"utf-8\")\n",
    "    for 점수 in 학생들:\n",
    "        if 점수 > 100 or 점수 < 0:\n",
    "            f.write(f\"에러 발생 중단\")\n",
    "            raise ValueError(\"점수는 0에서 100 사이여야 합니다.\")\n",
    "        if 점수 >= 90 and 점수 <100:\n",
    "            학점 = \"A\"\n",
    "        if 점수 >= 80 and 점수 < 90:\n",
    "            학점 = \"B\"\n",
    "        if 점수 >= 70 and 점수 < 80:\n",
    "            학점 = \"C\"\n",
    "        if 점수 >= 60 and 점수 < 70:\n",
    "            학점 = \"D\"\n",
    "        if 점수 < 60:\n",
    "            학점 = \"F\"\n",
    "        f.write(f\"점수 : {점수}, 학점 : {학점}\\n\")\n",
    "    print(f\"파일 저장 성공\")\n",
    "except Exception as e:\n",
    "    print(f\"오류 발생 : {e}\")\n",
    "    print(f\"파일 비정상 저장\")\n",
    "finally:\n",
    "    f.close()\n"
   ]
  },
  {
   "cell_type": "markdown",
   "id": "e28e7136",
   "metadata": {},
   "source": [
    "## 표준 라이브러리"
   ]
  },
  {
   "cell_type": "code",
   "execution_count": 136,
   "id": "41cb288e",
   "metadata": {},
   "outputs": [
    {
     "name": "stdout",
     "output_type": "stream",
     "text": [
      "2025-01-22와 2025-08-14의 차이는 204일입니다.\n",
      "------------------------------------------------------------\n",
      "전체 수업기간 :  204 일\n",
      "남은 수업기간 :  37 일\n",
      "지난 수업기간 :  167 일\n"
     ]
    }
   ],
   "source": [
    "# datetime 모듈\n",
    "import datetime\n",
    "day1 = datetime.date(2025, 1, 22)                           # 날짜 객체 생성\n",
    "day2 = datetime.date(2025, 8, 14)                          # 또다른 날짜 객체 생성\n",
    "diff = day2 - day1                                         # 날짜 차이 계산\n",
    "diff2 = day2 - datetime.datetime.now().date()              # 현재 날짜와 day2의 차이 계산\n",
    "print(f\"{day1}와 {day2}의 차이는 {diff.days}일입니다.\")    # 날짜 차이 출력\n",
    "print(\"-\"*60)\n",
    "print(\"전체 수업기간 : \", diff.days, \"일\")\n",
    "print(\"남은 수업기간 : \", diff2.days, \"일\")\n",
    "print(\"지난 수업기간 : \", diff.days - diff2.days, \"일\")"
   ]
  },
  {
   "cell_type": "code",
   "execution_count": 137,
   "id": "1c09b949",
   "metadata": {},
   "outputs": [
    {
     "name": "stdout",
     "output_type": "stream",
     "text": [
      "2025-01-22와 2025-08-14의 차이는 204일입니다.\n",
      "------------------------------------------------------------\n",
      "전체 수업기간 :  204 일\n",
      "남은 수업기간 :  37 일\n",
      "지난 수업기간 :  167 일\n"
     ]
    }
   ],
   "source": [
    "# datetime 모듈\n",
    "import datetime\n",
    "day1 = datetime.date(2025, 1, 22)                          # 날짜 객체 생성\n",
    "day2 = datetime.date(2025, 8, 14)                          # 또다른 날짜 객체 생성\n",
    "diff = day2 - day1                                         # 날짜 차이 계산\n",
    "diff2 = day2 - datetime.date.today()                       # 현재 날짜와 day2의 차이 계산\n",
    "print(f\"{day1}와 {day2}의 차이는 {diff.days}일입니다.\")    # 날짜 차이 출력\n",
    "print(\"-\"*60)\n",
    "print(\"전체 수업기간 : \", diff.days, \"일\")\n",
    "print(\"남은 수업기간 : \", diff2.days, \"일\")\n",
    "print(\"지난 수업기간 : \", diff.days - diff2.days, \"일\")"
   ]
  },
  {
   "cell_type": "code",
   "execution_count": 138,
   "id": "cb7ca4c9",
   "metadata": {},
   "outputs": [
    {
     "name": "stdout",
     "output_type": "stream",
     "text": [
      "1997-06-04은 수요일입니다.\n"
     ]
    }
   ],
   "source": [
    "# 요일 확인\n",
    "days = [\"월\",\"화\",\"수\",\"목\",\"금\",\"토\",\"일\"]\n",
    "day = datetime.date(1997, 6, 4)                                     # 날짜 객체 생성\n",
    "print(f\"{day}은 {days[day.weekday()]}요일입니다.\")                  # 요일 출력"
   ]
  },
  {
   "cell_type": "code",
   "execution_count": 140,
   "id": "57e0c566",
   "metadata": {},
   "outputs": [
    {
     "name": "stdout",
     "output_type": "stream",
     "text": [
      "1751953157.820504\n"
     ]
    }
   ],
   "source": [
    "# time\n",
    "import time\n",
    "print(time.time())               # 현재 시간을 초 단위로 출력"
   ]
  },
  {
   "cell_type": "code",
   "execution_count": null,
   "id": "915f3bed",
   "metadata": {},
   "outputs": [
    {
     "name": "stdout",
     "output_type": "stream",
     "text": [
      "time.struct_time(tm_year=2025, tm_mon=7, tm_mday=8, tm_hour=14, tm_min=42, tm_sec=47, tm_wday=1, tm_yday=189, tm_isdst=0)\n",
      "2025\n"
     ]
    }
   ],
   "source": [
    "# time.localtime()          # 현재 시간을 로컬 시간으로 변환\n",
    "tt = time.localtime(time.time())\n",
    "print(tt)                           # 로컬 시간 출력\n",
    "print(tt.tm_year)"
   ]
  },
  {
   "cell_type": "code",
   "execution_count": 145,
   "id": "ea4cce89",
   "metadata": {},
   "outputs": [
    {
     "name": "stdout",
     "output_type": "stream",
     "text": [
      "Tue Jul  8 14:42:47 2025\n"
     ]
    }
   ],
   "source": [
    "# time.asction()                        # 로컬 시간을 문자열로 변환\n",
    "print(time.asctime(tt))"
   ]
  },
  {
   "cell_type": "code",
   "execution_count": 146,
   "id": "90d6d9c0",
   "metadata": {},
   "outputs": [
    {
     "name": "stdout",
     "output_type": "stream",
     "text": [
      "Tue Jul  8 14:45:05 2025\n"
     ]
    }
   ],
   "source": [
    "# time.ctime()                           # 현재 시간을 문자열로 변환\n",
    "print(time.ctime())                      # 현재 시간을 문자열로 변환하여 출력"
   ]
  },
  {
   "cell_type": "code",
   "execution_count": 147,
   "id": "4130fcb5",
   "metadata": {},
   "outputs": [
    {
     "name": "stdout",
     "output_type": "stream",
     "text": [
      "2025-07-08 // 14:42:47\n"
     ]
    }
   ],
   "source": [
    "# time.strftime()               # 현재 시간을 지정된 형식으로 문자열로 변환\n",
    "print(time.strftime(\"%Y-%m-%d // %H:%M:%S\",tt))"
   ]
  },
  {
   "cell_type": "code",
   "execution_count": 148,
   "id": "738bf4ea",
   "metadata": {},
   "outputs": [
    {
     "name": "stdout",
     "output_type": "stream",
     "text": [
      "카운트 : 10\r"
     ]
    }
   ],
   "source": [
    "import time as t\n",
    "for i in range(10):\n",
    "    print(f\"카운트 : {i+1}\", end=\"\\r\")\n",
    "    t.sleep(1)"
   ]
  },
  {
   "cell_type": "code",
   "execution_count": 149,
   "id": "1075499c",
   "metadata": {},
   "outputs": [
    {
     "name": "stdout",
     "output_type": "stream",
     "text": [
      "100% | ■■■■■■■■■■\r"
     ]
    }
   ],
   "source": [
    "import time as t\n",
    "str = '■'\n",
    "for i in range(101):\n",
    "    print(f\"{i:<3}% | {str*(i//10):<10}\", end = \"\\r\")\n",
    "    t.sleep(0.1)"
   ]
  },
  {
   "cell_type": "code",
   "execution_count": 151,
   "id": "513e7ac1",
   "metadata": {},
   "outputs": [
    {
     "name": "stdout",
     "output_type": "stream",
     "text": [
      "3.141592653589793\n",
      "2.718281828459045\n",
      "20\n",
      "60\n"
     ]
    }
   ],
   "source": [
    "# math 모듈\n",
    "import math\n",
    "print(math.pi)                          # 파이값 출력\n",
    "print(math.e)                           # 자연상수 e 출력\n",
    "# gcd, lcm\n",
    "print(math.gcd(60, 100, 80))            # 최대공약수\n",
    "print(math.lcm(12, 15))                 # 최소공배수"
   ]
  },
  {
   "cell_type": "code",
   "execution_count": 153,
   "id": "59ec9943",
   "metadata": {},
   "outputs": [
    {
     "name": "stdout",
     "output_type": "stream",
     "text": [
      "3\n",
      "0.9581817519163007\n"
     ]
    }
   ],
   "source": [
    "# random 모듈\n",
    "import random\n",
    "print(random.randint(1,10))         # 1부터 10까지 랜덤 정수\n",
    "print(random.random())              # 0.0부터 1.0까지의 랜덤 실수"
   ]
  },
  {
   "cell_type": "code",
   "execution_count": 187,
   "id": "f303b907",
   "metadata": {},
   "outputs": [
    {
     "name": "stdout",
     "output_type": "stream",
     "text": [
      "[10, 17, 22, 24, 33, 43]\n"
     ]
    }
   ],
   "source": [
    "import random\n",
    "lotto = []\n",
    "for i in range(0,6):\n",
    "    n = random.randint(1,45)\n",
    "    if n in lotto:\n",
    "        while n in lotto:\n",
    "            n = random.randint(1,45)\n",
    "    lotto.append(n)\n",
    "\n",
    "print(sorted(lotto))"
   ]
  },
  {
   "cell_type": "markdown",
   "id": "76f2d379",
   "metadata": {},
   "source": [
    "## tools"
   ]
  },
  {
   "cell_type": "code",
   "execution_count": 190,
   "id": "916687fc",
   "metadata": {},
   "outputs": [
    {
     "name": "stdout",
     "output_type": "stream",
     "text": [
      "[('한민서', '과자'), ('김지민', '초콜릿'), ('박서준', '사탕')]\n",
      "[('한민서', '과자'), ('김지민', '초콜릿'), ('박서준', '사탕'), ('이수현', '칸초'), ('최영수', '칸초')]\n"
     ]
    }
   ],
   "source": [
    "import itertools\n",
    "students = [\"한민서\", \"김지민\", \"박서준\", \"이수현\", \"최영수\"]\n",
    "snacks = [\"과자\", \"초콜릿\", \"사탕\"]\n",
    "result = zip(students, snacks)                                      # 학생 이름과 간식을 짝지음 , zip은 작은 배열의 길이를 맞춤\n",
    "print(list(result))                                                 # 결과를 리스트로 변환하여 출력\n",
    "\n",
    "result2 = itertools.zip_longest(students, snacks, fillvalue=\"칸초\") # 짝이 없는 학생은 \"칸초\"로 채움\n",
    "print(list(result2))        "
   ]
  },
  {
   "cell_type": "code",
   "execution_count": 191,
   "id": "2cd558f0",
   "metadata": {},
   "outputs": [
    {
     "name": "stdout",
     "output_type": "stream",
     "text": [
      "8145060\n"
     ]
    }
   ],
   "source": [
    "# itertools.combination 응용\n",
    "# itertools.permutation\n",
    "import itertools\n",
    "lotto = itertools.combinations(range(1,46), 6)\n",
    "print(len(list(lotto)))"
   ]
  },
  {
   "cell_type": "code",
   "execution_count": null,
   "id": "20209690",
   "metadata": {},
   "outputs": [],
   "source": [
    "# functools.reduce\n"
   ]
  },
  {
   "cell_type": "markdown",
   "id": "321bb162",
   "metadata": {},
   "source": [
    "## OS"
   ]
  },
  {
   "cell_type": "code",
   "execution_count": 195,
   "id": "5bc2cfc3",
   "metadata": {},
   "outputs": [
    {
     "data": {
      "text/plain": [
       "['.ipynb_checkpoints',\n",
       " 'if 조건 실습 2(성적2).txt',\n",
       " 'if조건 연습.txt',\n",
       " 'myserver.bat',\n",
       " 'py01.ipynb',\n",
       " 'test.txt',\n",
       " '삼육구.txt',\n",
       " '점수입력.txt']"
      ]
     },
     "execution_count": 195,
     "metadata": {},
     "output_type": "execute_result"
    }
   ],
   "source": [
    "import os\n",
    "os.environ['PATH']                  # 환경 변수 PATH 출력\n",
    "os.chdir(\"c:\\\\kjw\")                 # 현재 작업 디렉토리 출력\n",
    "os.getcwd()                         # 현재 작업 디렉토리 출력\n",
    "os.listdir()                        # 현재 디렉토리의 파일 목록 출력\n"
   ]
  },
  {
   "cell_type": "code",
   "execution_count": 203,
   "id": "cfca3158",
   "metadata": {},
   "outputs": [
    {
     "name": "stdout",
     "output_type": "stream",
     "text": [
      ".\\py01.ipynb\n"
     ]
    }
   ],
   "source": [
    "import glob\n",
    "for file in glob.glob(\"./py*.ipynb\"):\n",
    "    print(file)\n"
   ]
  },
  {
   "cell_type": "code",
   "execution_count": null,
   "id": "72aa36a7",
   "metadata": {},
   "outputs": [],
   "source": [
    "# shutil , 파일 복사, 이동, 삭제 등 가능\n",
    "import shutil\n",
    "\n"
   ]
  },
  {
   "cell_type": "code",
   "execution_count": 204,
   "id": "9779bb31",
   "metadata": {},
   "outputs": [
    {
     "name": "stdout",
     "output_type": "stream",
     "text": [
      "Collecting faker\n",
      "  Downloading faker-37.4.0-py3-none-any.whl.metadata (15 kB)\n",
      "Collecting tzdata (from faker)\n",
      "  Downloading tzdata-2025.2-py2.py3-none-any.whl.metadata (1.4 kB)\n",
      "Downloading faker-37.4.0-py3-none-any.whl (1.9 MB)\n",
      "   ---------------------------------------- 0.0/1.9 MB ? eta -:--:--\n",
      "   ----- ---------------------------------- 0.3/1.9 MB ? eta -:--:--\n",
      "   ---------------- ----------------------- 0.8/1.9 MB 2.5 MB/s eta 0:00:01\n",
      "   -------------------------- ------------- 1.3/1.9 MB 2.2 MB/s eta 0:00:01\n",
      "   -------------------------------- ------- 1.6/1.9 MB 2.1 MB/s eta 0:00:01\n",
      "   ---------------------------------------- 1.9/1.9 MB 2.0 MB/s eta 0:00:00\n",
      "Downloading tzdata-2025.2-py2.py3-none-any.whl (347 kB)\n",
      "Installing collected packages: tzdata, faker\n",
      "\n",
      "   ---------------------------------------- 0/2 [tzdata]\n",
      "   ---------------------------------------- 0/2 [tzdata]\n",
      "   -------------------- ------------------- 1/2 [faker]\n",
      "   -------------------- ------------------- 1/2 [faker]\n",
      "   -------------------- ------------------- 1/2 [faker]\n",
      "   -------------------- ------------------- 1/2 [faker]\n",
      "   -------------------- ------------------- 1/2 [faker]\n",
      "   -------------------- ------------------- 1/2 [faker]\n",
      "   -------------------- ------------------- 1/2 [faker]\n",
      "   -------------------- ------------------- 1/2 [faker]\n",
      "   -------------------- ------------------- 1/2 [faker]\n",
      "   -------------------- ------------------- 1/2 [faker]\n",
      "   -------------------- ------------------- 1/2 [faker]\n",
      "   -------------------- ------------------- 1/2 [faker]\n",
      "   -------------------- ------------------- 1/2 [faker]\n",
      "   -------------------- ------------------- 1/2 [faker]\n",
      "   -------------------- ------------------- 1/2 [faker]\n",
      "   -------------------- ------------------- 1/2 [faker]\n",
      "   -------------------- ------------------- 1/2 [faker]\n",
      "   -------------------- ------------------- 1/2 [faker]\n",
      "   -------------------- ------------------- 1/2 [faker]\n",
      "   -------------------- ------------------- 1/2 [faker]\n",
      "   -------------------- ------------------- 1/2 [faker]\n",
      "   -------------------- ------------------- 1/2 [faker]\n",
      "   -------------------- ------------------- 1/2 [faker]\n",
      "   -------------------- ------------------- 1/2 [faker]\n",
      "   -------------------- ------------------- 1/2 [faker]\n",
      "   -------------------- ------------------- 1/2 [faker]\n",
      "   -------------------- ------------------- 1/2 [faker]\n",
      "   -------------------- ------------------- 1/2 [faker]\n",
      "   -------------------- ------------------- 1/2 [faker]\n",
      "   -------------------- ------------------- 1/2 [faker]\n",
      "   ---------------------------------------- 2/2 [faker]\n",
      "\n",
      "Successfully installed faker-37.4.0 tzdata-2025.2\n"
     ]
    }
   ],
   "source": [
    "!pip install faker"
   ]
  },
  {
   "cell_type": "code",
   "execution_count": 205,
   "id": "3f278fec",
   "metadata": {},
   "outputs": [
    {
     "data": {
      "text/plain": [
       "[{'name': '박하윤',\n",
       "  'address': '울산광역시 종로구 오금거리 857-52 (미영이하읍)',\n",
       "  'email': 'gimjinho@example.net',\n",
       "  'phone': '042-046-1674'},\n",
       " {'name': '김지연',\n",
       "  'address': '대전광역시 마포구 오금길 678',\n",
       "  'email': 'rgim@example.org',\n",
       "  'phone': '02-6354-6801'},\n",
       " {'name': '진승민',\n",
       "  'address': '제주특별자치도 아산시 역삼282길 290',\n",
       "  'email': 'yeongho88@example.net',\n",
       "  'phone': '070-1189-2376'},\n",
       " {'name': '강예준',\n",
       "  'address': '광주광역시 광진구 역삼길 77-72',\n",
       "  'email': 'ki@example.net',\n",
       "  'phone': '018-058-3750'},\n",
       " {'name': '고정수',\n",
       "  'address': '전라북도 영동군 오금752로 350 (수진이박면)',\n",
       "  'email': 'haeunno@example.com',\n",
       "  'phone': '016-605-6604'}]"
      ]
     },
     "execution_count": 205,
     "metadata": {},
     "output_type": "execute_result"
    }
   ],
   "source": [
    "# faker : 임의의 더미 데이터 생성\n",
    "\n",
    "from faker import Faker\n",
    "fake = Faker('ko_KR')                   # 한국어로 Faker 객체 생성\n",
    "[{\"name\" : fake.name(), \"address\" : fake.address(), \"email\" : fake.email(), \"phone\" : fake.phone_number()} for _ in range(5)]"
   ]
  },
  {
   "cell_type": "markdown",
   "id": "685cd3a1",
   "metadata": {},
   "source": []
  }
 ],
 "metadata": {
  "kernelspec": {
   "display_name": "Python 3 (ipykernel)",
   "language": "python",
   "name": "python3"
  },
  "language_info": {
   "codemirror_mode": {
    "name": "ipython",
    "version": 3
   },
   "file_extension": ".py",
   "mimetype": "text/x-python",
   "name": "python",
   "nbconvert_exporter": "python",
   "pygments_lexer": "ipython3",
   "version": "3.13.3"
  }
 },
 "nbformat": 4,
 "nbformat_minor": 5
}

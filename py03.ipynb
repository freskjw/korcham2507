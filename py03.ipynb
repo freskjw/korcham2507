{
 "cells": [
  {
   "cell_type": "markdown",
   "id": "2f596ce6",
   "metadata": {},
   "source": [
    "# 넘파이 Numpy"
   ]
  },
  {
   "cell_type": "markdown",
   "id": "c6b9faf4",
   "metadata": {},
   "source": [
    "## numpy as np"
   ]
  },
  {
   "cell_type": "code",
   "execution_count": 2,
   "id": "221a9647",
   "metadata": {},
   "outputs": [],
   "source": [
    "# numpy \n",
    "import numpy as np\n",
    "data1 = [1,2,3,4,5]\n",
    "data2 = [1,2,3,4,5,6]"
   ]
  },
  {
   "cell_type": "code",
   "execution_count": 5,
   "id": "16b540cf",
   "metadata": {},
   "outputs": [
    {
     "data": {
      "text/plain": [
       "(array([1, 2, 3, 4, 5]), array([1, 2, 3, 4, 5, 6]))"
      ]
     },
     "execution_count": 5,
     "metadata": {},
     "output_type": "execute_result"
    }
   ],
   "source": [
    "arr1 = np.array(data1)\n",
    "arr2 = np.array(data2)\n",
    "arr1, arr2"
   ]
  },
  {
   "cell_type": "code",
   "execution_count": 10,
   "id": "b4ceabaf",
   "metadata": {},
   "outputs": [
    {
     "data": {
      "text/plain": [
       "((5,), dtype('int64'))"
      ]
     },
     "execution_count": 10,
     "metadata": {},
     "output_type": "execute_result"
    }
   ],
   "source": [
    "arr1.shape , arr1.dtype"
   ]
  },
  {
   "cell_type": "code",
   "execution_count": null,
   "id": "1abf6fc7",
   "metadata": {},
   "outputs": [
    {
     "data": {
      "text/plain": [
       "array([[1, 2, 3],\n",
       "       [4, 5, 6]])"
      ]
     },
     "execution_count": 14,
     "metadata": {},
     "output_type": "execute_result"
    }
   ],
   "source": [
    "arr3 = np.array([[1,2,3],[4,5,6]])\n",
    "arr3"
   ]
  },
  {
   "cell_type": "code",
   "execution_count": 15,
   "id": "bc75d5c3",
   "metadata": {},
   "outputs": [
    {
     "data": {
      "text/plain": [
       "((2, 3), dtype('int64'))"
      ]
     },
     "execution_count": 15,
     "metadata": {},
     "output_type": "execute_result"
    }
   ],
   "source": [
    "arr3.shape , arr3.dtype"
   ]
  },
  {
   "cell_type": "code",
   "execution_count": 20,
   "id": "8c617b83",
   "metadata": {},
   "outputs": [
    {
     "data": {
      "text/plain": [
       "(array([0., 0., 0., 0., 0., 0., 0., 0., 0., 0.]), (10,), dtype('float64'))"
      ]
     },
     "execution_count": 20,
     "metadata": {},
     "output_type": "execute_result"
    }
   ],
   "source": [
    "zz = np.zeros(10)\n",
    "zz, zz.shape , zz.dtype"
   ]
  },
  {
   "cell_type": "code",
   "execution_count": 23,
   "id": "090e0a96",
   "metadata": {},
   "outputs": [
    {
     "data": {
      "text/plain": [
       "(array([[0., 0., 0., 0., 0.],\n",
       "        [0., 0., 0., 0., 0.],\n",
       "        [0., 0., 0., 0., 0.]]),\n",
       " (3, 5),\n",
       " dtype('float64'))"
      ]
     },
     "execution_count": 23,
     "metadata": {},
     "output_type": "execute_result"
    }
   ],
   "source": [
    "zzz = np.zeros([3,5])\n",
    "zzz , zzz.shape , zzz.dtype"
   ]
  },
  {
   "cell_type": "code",
   "execution_count": 24,
   "id": "fbc001ee",
   "metadata": {},
   "outputs": [
    {
     "data": {
      "text/plain": [
       "(array([1., 1., 1., 1., 1., 1., 1.]), (7,), dtype('float64'))"
      ]
     },
     "execution_count": 24,
     "metadata": {},
     "output_type": "execute_result"
    }
   ],
   "source": [
    "oo = np.ones(7)\n",
    "oo , oo.shape , oo.dtype"
   ]
  },
  {
   "cell_type": "code",
   "execution_count": 25,
   "id": "526c6a2c",
   "metadata": {},
   "outputs": [
    {
     "data": {
      "text/plain": [
       "(array([[1., 1., 1., 1., 1., 1., 1., 1., 1., 1.],\n",
       "        [1., 1., 1., 1., 1., 1., 1., 1., 1., 1.]]),\n",
       " (2, 10),\n",
       " dtype('float64'))"
      ]
     },
     "execution_count": 25,
     "metadata": {},
     "output_type": "execute_result"
    }
   ],
   "source": [
    "ooo = np.ones([2,10])\n",
    "ooo , ooo.shape , ooo.dtype"
   ]
  },
  {
   "cell_type": "code",
   "execution_count": 27,
   "id": "974b82f7",
   "metadata": {},
   "outputs": [
    {
     "data": {
      "text/plain": [
       "array([ 4,  5,  6,  7,  8,  9, 10, 11])"
      ]
     },
     "execution_count": 27,
     "metadata": {},
     "output_type": "execute_result"
    }
   ],
   "source": [
    "np.arange(4,12)"
   ]
  },
  {
   "cell_type": "markdown",
   "id": "d5a9909f",
   "metadata": {},
   "source": [
    "## np.array 연산"
   ]
  },
  {
   "cell_type": "code",
   "execution_count": null,
   "id": "e977cc73",
   "metadata": {},
   "outputs": [
    {
     "data": {
      "text/plain": [
       "(array([[1, 2, 3],\n",
       "        [4, 5, 6]]),\n",
       " array([[10, 11, 12],\n",
       "        [13, 14, 15]]))"
      ]
     },
     "execution_count": 28,
     "metadata": {},
     "output_type": "execute_result"
    }
   ],
   "source": [
    "arr1 = np.array([[1,2,3],[4,5,6]])\n",
    "arr2 = np.array([[10,11,12],[13,14,15]])\n",
    "arr1 , arr2"
   ]
  },
  {
   "cell_type": "code",
   "execution_count": 30,
   "id": "b3e21269",
   "metadata": {},
   "outputs": [
    {
     "name": "stdout",
     "output_type": "stream",
     "text": [
      "(2, 3) int64\n",
      "(2, 3) int64\n"
     ]
    }
   ],
   "source": [
    "print(arr1.shape , arr1.dtype)\n",
    "print(arr2.shape , arr2.dtype)"
   ]
  },
  {
   "cell_type": "code",
   "execution_count": 43,
   "id": "355ce837",
   "metadata": {},
   "outputs": [
    {
     "name": "stdout",
     "output_type": "stream",
     "text": [
      "[[ 3  6  9]\n",
      " [12 15 18]]\n",
      "[[11 13 15]\n",
      " [17 19 21]]\n",
      "[[-9 -9 -9]\n",
      " [-9 -9 -9]]\n",
      "[[ 1.   2.9  4.8]\n",
      " [ 6.7  8.6 10.5]]\n",
      "[[10 22 36]\n",
      " [52 70 90]]\n",
      "[[0.1        0.18181818 0.25      ]\n",
      " [0.30769231 0.35714286 0.4       ]]\n",
      "[[23 35 47]\n",
      " [26 38 50]]\n",
      "[[ 22  66 132]\n",
      " [ 88 165 264]]\n"
     ]
    }
   ],
   "source": [
    "result0 = arr1*3\n",
    "result1 = arr1 + arr2\n",
    "result2 = arr1 - arr2\n",
    "result3 = arr1*2 - arr2/10\n",
    "result4 = arr1 * arr2\n",
    "result5 = arr1 / arr2\n",
    "\n",
    "print(result0)\n",
    "print(result1)\n",
    "print(result2)\n",
    "print(result3)\n",
    "print(result4)\n",
    "print(result5)\n",
    "\n",
    "# 브로드캐스트 : 같은 크기의 배열을 가지지 않아도 요소별 연산이 가능함\n",
    "arr3 = np.array([22,33,44])\n",
    "print(arr1 + arr3)\n",
    "print(arr1 * arr3)\n"
   ]
  },
  {
   "cell_type": "markdown",
   "id": "05e2fcb5",
   "metadata": {},
   "source": [
    "## 1차원"
   ]
  },
  {
   "cell_type": "code",
   "execution_count": 45,
   "id": "a7d44cf0",
   "metadata": {},
   "outputs": [
    {
     "data": {
      "text/plain": [
       "(array([0, 1, 2, 3, 4]), (5,), dtype('int64'), 5, 1)"
      ]
     },
     "execution_count": 45,
     "metadata": {},
     "output_type": "execute_result"
    }
   ],
   "source": [
    "# 1차원과 속성들\n",
    "# shape : 배열의 차원정보\n",
    "# dtype : 배열 원소의 자료형\n",
    "# size : 배열의 원소 총 개수\n",
    "# ndim : 축의 개수\n",
    "\n",
    "arr = np.arange(5)\n",
    "arr, arr.shape , arr.dtype , arr.size , arr.ndim\n"
   ]
  },
  {
   "cell_type": "code",
   "execution_count": 46,
   "id": "6f6a1423",
   "metadata": {},
   "outputs": [
    {
     "name": "stdout",
     "output_type": "stream",
     "text": [
      "[1 2 3 4] int64\n",
      "['1' '2' 'a' 'b'] <U21\n",
      "['1' '2' '3' '4'] <U1\n"
     ]
    }
   ],
   "source": [
    "arr1 = np.array([1,2,3,4])\n",
    "arr2 = np.array([1,2,'a','b'])\n",
    "arr3 = np.array([1,2,3,4], dtype='str')\n",
    "\n",
    "print(arr1, arr1.dtype)\n",
    "print(arr2, arr2.dtype)\n",
    "print(arr3, arr3.dtype)"
   ]
  },
  {
   "cell_type": "code",
   "execution_count": 60,
   "id": "9db40031",
   "metadata": {},
   "outputs": [
    {
     "data": {
      "text/plain": [
       "(array([[8, 8, 8],\n",
       "        [8, 8, 8],\n",
       "        [8, 8, 8],\n",
       "        [8, 8, 8]]),\n",
       " array([['없어', '없어', '없어'],\n",
       "        ['없어', '없어', '없어'],\n",
       "        ['없어', '없어', '없어'],\n",
       "        ['없어', '없어', '없어']], dtype='<U2'),\n",
       " array([[1., 0., 0.],\n",
       "        [0., 1., 0.],\n",
       "        [0., 0., 1.]]),\n",
       " array([ 0, 20, 40, 60, 80]),\n",
       " array([ 0, 20, 40, 60, 80]))"
      ]
     },
     "execution_count": 60,
     "metadata": {},
     "output_type": "execute_result"
    }
   ],
   "source": [
    "arr4 = np.full((4,3),8)                                             # 4x3 행렬을 8로 채움\n",
    "arr4_1 = np.full((4,3),\"없어\")                                      # 4x3 행렬을 \"없어\"로 채움\n",
    "arr5 = np.eye(3)                                                    # 3x3 단위행렬 생성 (float형)\n",
    "arr6 = np.linspace(0,100,5, endpoint = False, dtype=\"int64\")        # 칸을 균등하게 분배(arange랑 비슷), float형 int로 변환 가능\n",
    "arr7 = np.arange(0,100,20)                                          # linspace에 endpoint = False를 안치면 100도 포함\n",
    "arr4 , arr4_1 , arr5 , arr6 , arr7\n"
   ]
  },
  {
   "cell_type": "markdown",
   "id": "d8c739ac",
   "metadata": {},
   "source": [
    "## 2차원"
   ]
  },
  {
   "cell_type": "code",
   "execution_count": 66,
   "id": "5d6ca6cb",
   "metadata": {},
   "outputs": [
    {
     "data": {
      "text/plain": [
       "(array([[1, 2],\n",
       "        [3, 4]]),\n",
       " (2, 2),\n",
       " 4,\n",
       " dtype('int64'),\n",
       " 2,\n",
       " numpy.ndarray)"
      ]
     },
     "execution_count": 66,
     "metadata": {},
     "output_type": "execute_result"
    }
   ],
   "source": [
    "arr20 = np.array([[1,2],[3,4]])\n",
    "arr20 , arr20.shape , arr20.size , arr20.dtype , arr20.ndim , type(arr20)"
   ]
  },
  {
   "cell_type": "code",
   "execution_count": 77,
   "id": "df302b34",
   "metadata": {},
   "outputs": [
    {
     "name": "stdout",
     "output_type": "stream",
     "text": [
      "[[1 2 3]\n",
      " [4 5 6]\n",
      " [7 8 9]] (3, 3) 9 int64 2 <class 'numpy.ndarray'>\n",
      "[[ 1  2  3  4  5]\n",
      " [ 6  7  8  9 10]] (2, 5) 10 int64 2 <class 'numpy.ndarray'>\n",
      "[[ 1  2  3  4  5  6]\n",
      " [ 7  8  9 10 11 12]\n",
      " [13 14 15 16 17 18]] (3, 6) 18 int64 2 <class 'numpy.ndarray'>\n"
     ]
    }
   ],
   "source": [
    "try:\n",
    "    arr21 = np.arange(1,10).reshape(3,3)\n",
    "    print(arr21 , arr21.shape , arr21.size , arr21.dtype , arr21.ndim , type(arr21))\n",
    "    arr22 = np.arange(1,11).reshape(2,5)\n",
    "    print(arr22 , arr22.shape , arr22.size , arr22.dtype , arr22.ndim , type(arr22))\n",
    "    arr23 = np.arange(1,19).reshape(3,6)\n",
    "    print(arr23 , arr23.shape , arr23.size , arr23.dtype , arr23.ndim , type(arr23))\n",
    "except ValueError as e:\n",
    "    print(\"차원과 사이즈가 맞지 않아요\")"
   ]
  }
 ],
 "metadata": {
  "kernelspec": {
   "display_name": "Python 3 (ipykernel)",
   "language": "python",
   "name": "python3"
  },
  "language_info": {
   "codemirror_mode": {
    "name": "ipython",
    "version": 3
   },
   "file_extension": ".py",
   "mimetype": "text/x-python",
   "name": "python",
   "nbconvert_exporter": "python",
   "pygments_lexer": "ipython3",
   "version": "3.13.3"
  }
 },
 "nbformat": 4,
 "nbformat_minor": 5
}

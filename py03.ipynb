{
 "cells": [
  {
   "cell_type": "markdown",
   "id": "2f596ce6",
   "metadata": {},
   "source": [
    "# 넘파이 Numpy"
   ]
  },
  {
   "cell_type": "markdown",
   "id": "c6b9faf4",
   "metadata": {},
   "source": [
    "## numpy as np"
   ]
  },
  {
   "cell_type": "code",
   "execution_count": 2,
   "id": "221a9647",
   "metadata": {},
   "outputs": [],
   "source": [
    "# numpy \n",
    "import numpy as np\n",
    "data1 = [1,2,3,4,5]\n",
    "data2 = [1,2,3,4,5,6]"
   ]
  },
  {
   "cell_type": "code",
   "execution_count": 5,
   "id": "16b540cf",
   "metadata": {},
   "outputs": [
    {
     "data": {
      "text/plain": [
       "(array([1, 2, 3, 4, 5]), array([1, 2, 3, 4, 5, 6]))"
      ]
     },
     "execution_count": 5,
     "metadata": {},
     "output_type": "execute_result"
    }
   ],
   "source": [
    "arr1 = np.array(data1)\n",
    "arr2 = np.array(data2)\n",
    "arr1, arr2"
   ]
  },
  {
   "cell_type": "code",
   "execution_count": 10,
   "id": "b4ceabaf",
   "metadata": {},
   "outputs": [
    {
     "data": {
      "text/plain": [
       "((5,), dtype('int64'))"
      ]
     },
     "execution_count": 10,
     "metadata": {},
     "output_type": "execute_result"
    }
   ],
   "source": [
    "arr1.shape , arr1.dtype"
   ]
  },
  {
   "cell_type": "code",
   "execution_count": null,
   "id": "1abf6fc7",
   "metadata": {},
   "outputs": [
    {
     "data": {
      "text/plain": [
       "array([[1, 2, 3],\n",
       "       [4, 5, 6]])"
      ]
     },
     "execution_count": 14,
     "metadata": {},
     "output_type": "execute_result"
    }
   ],
   "source": [
    "arr3 = np.array([[1,2,3],[4,5,6]])\n",
    "arr3"
   ]
  },
  {
   "cell_type": "code",
   "execution_count": 15,
   "id": "bc75d5c3",
   "metadata": {},
   "outputs": [
    {
     "data": {
      "text/plain": [
       "((2, 3), dtype('int64'))"
      ]
     },
     "execution_count": 15,
     "metadata": {},
     "output_type": "execute_result"
    }
   ],
   "source": [
    "arr3.shape , arr3.dtype"
   ]
  },
  {
   "cell_type": "code",
   "execution_count": 20,
   "id": "8c617b83",
   "metadata": {},
   "outputs": [
    {
     "data": {
      "text/plain": [
       "(array([0., 0., 0., 0., 0., 0., 0., 0., 0., 0.]), (10,), dtype('float64'))"
      ]
     },
     "execution_count": 20,
     "metadata": {},
     "output_type": "execute_result"
    }
   ],
   "source": [
    "zz = np.zeros(10)\n",
    "zz, zz.shape , zz.dtype"
   ]
  },
  {
   "cell_type": "code",
   "execution_count": 23,
   "id": "090e0a96",
   "metadata": {},
   "outputs": [
    {
     "data": {
      "text/plain": [
       "(array([[0., 0., 0., 0., 0.],\n",
       "        [0., 0., 0., 0., 0.],\n",
       "        [0., 0., 0., 0., 0.]]),\n",
       " (3, 5),\n",
       " dtype('float64'))"
      ]
     },
     "execution_count": 23,
     "metadata": {},
     "output_type": "execute_result"
    }
   ],
   "source": [
    "zzz = np.zeros([3,5])\n",
    "zzz , zzz.shape , zzz.dtype"
   ]
  },
  {
   "cell_type": "code",
   "execution_count": 24,
   "id": "fbc001ee",
   "metadata": {},
   "outputs": [
    {
     "data": {
      "text/plain": [
       "(array([1., 1., 1., 1., 1., 1., 1.]), (7,), dtype('float64'))"
      ]
     },
     "execution_count": 24,
     "metadata": {},
     "output_type": "execute_result"
    }
   ],
   "source": [
    "oo = np.ones(7)\n",
    "oo , oo.shape , oo.dtype"
   ]
  },
  {
   "cell_type": "code",
   "execution_count": 25,
   "id": "526c6a2c",
   "metadata": {},
   "outputs": [
    {
     "data": {
      "text/plain": [
       "(array([[1., 1., 1., 1., 1., 1., 1., 1., 1., 1.],\n",
       "        [1., 1., 1., 1., 1., 1., 1., 1., 1., 1.]]),\n",
       " (2, 10),\n",
       " dtype('float64'))"
      ]
     },
     "execution_count": 25,
     "metadata": {},
     "output_type": "execute_result"
    }
   ],
   "source": [
    "ooo = np.ones([2,10])\n",
    "ooo , ooo.shape , ooo.dtype"
   ]
  },
  {
   "cell_type": "code",
   "execution_count": 27,
   "id": "974b82f7",
   "metadata": {},
   "outputs": [
    {
     "data": {
      "text/plain": [
       "array([ 4,  5,  6,  7,  8,  9, 10, 11])"
      ]
     },
     "execution_count": 27,
     "metadata": {},
     "output_type": "execute_result"
    }
   ],
   "source": [
    "np.arange(4,12)"
   ]
  },
  {
   "cell_type": "markdown",
   "id": "d5a9909f",
   "metadata": {},
   "source": [
    "## np.array 연산"
   ]
  },
  {
   "cell_type": "code",
   "execution_count": null,
   "id": "e977cc73",
   "metadata": {},
   "outputs": [
    {
     "data": {
      "text/plain": [
       "(array([[1, 2, 3],\n",
       "        [4, 5, 6]]),\n",
       " array([[10, 11, 12],\n",
       "        [13, 14, 15]]))"
      ]
     },
     "execution_count": 28,
     "metadata": {},
     "output_type": "execute_result"
    }
   ],
   "source": [
    "arr1 = np.array([[1,2,3],[4,5,6]])\n",
    "arr2 = np.array([[10,11,12],[13,14,15]])\n",
    "arr1 , arr2"
   ]
  },
  {
   "cell_type": "code",
   "execution_count": 30,
   "id": "b3e21269",
   "metadata": {},
   "outputs": [
    {
     "name": "stdout",
     "output_type": "stream",
     "text": [
      "(2, 3) int64\n",
      "(2, 3) int64\n"
     ]
    }
   ],
   "source": [
    "print(arr1.shape , arr1.dtype)\n",
    "print(arr2.shape , arr2.dtype)"
   ]
  },
  {
   "cell_type": "code",
   "execution_count": 43,
   "id": "355ce837",
   "metadata": {},
   "outputs": [
    {
     "name": "stdout",
     "output_type": "stream",
     "text": [
      "[[ 3  6  9]\n",
      " [12 15 18]]\n",
      "[[11 13 15]\n",
      " [17 19 21]]\n",
      "[[-9 -9 -9]\n",
      " [-9 -9 -9]]\n",
      "[[ 1.   2.9  4.8]\n",
      " [ 6.7  8.6 10.5]]\n",
      "[[10 22 36]\n",
      " [52 70 90]]\n",
      "[[0.1        0.18181818 0.25      ]\n",
      " [0.30769231 0.35714286 0.4       ]]\n",
      "[[23 35 47]\n",
      " [26 38 50]]\n",
      "[[ 22  66 132]\n",
      " [ 88 165 264]]\n"
     ]
    }
   ],
   "source": [
    "result0 = arr1*3\n",
    "result1 = arr1 + arr2\n",
    "result2 = arr1 - arr2\n",
    "result3 = arr1*2 - arr2/10\n",
    "result4 = arr1 * arr2\n",
    "result5 = arr1 / arr2\n",
    "\n",
    "print(result0)\n",
    "print(result1)\n",
    "print(result2)\n",
    "print(result3)\n",
    "print(result4)\n",
    "print(result5)\n",
    "\n",
    "# 브로드캐스트 : 같은 크기의 배열을 가지지 않아도 요소별 연산이 가능함\n",
    "arr3 = np.array([22,33,44])\n",
    "print(arr1 + arr3)\n",
    "print(arr1 * arr3)\n"
   ]
  },
  {
   "cell_type": "markdown",
   "id": "05e2fcb5",
   "metadata": {},
   "source": [
    "## 1차원"
   ]
  },
  {
   "cell_type": "code",
   "execution_count": 45,
   "id": "a7d44cf0",
   "metadata": {},
   "outputs": [
    {
     "data": {
      "text/plain": [
       "(array([0, 1, 2, 3, 4]), (5,), dtype('int64'), 5, 1)"
      ]
     },
     "execution_count": 45,
     "metadata": {},
     "output_type": "execute_result"
    }
   ],
   "source": [
    "# 1차원과 속성들\n",
    "# shape : 배열의 차원정보\n",
    "# dtype : 배열 원소의 자료형\n",
    "# size : 배열의 원소 총 개수\n",
    "# ndim : 축의 개수\n",
    "\n",
    "arr = np.arange(5)\n",
    "arr, arr.shape , arr.dtype , arr.size , arr.ndim\n"
   ]
  },
  {
   "cell_type": "code",
   "execution_count": 46,
   "id": "6f6a1423",
   "metadata": {},
   "outputs": [
    {
     "name": "stdout",
     "output_type": "stream",
     "text": [
      "[1 2 3 4] int64\n",
      "['1' '2' 'a' 'b'] <U21\n",
      "['1' '2' '3' '4'] <U1\n"
     ]
    }
   ],
   "source": [
    "arr1 = np.array([1,2,3,4])\n",
    "arr2 = np.array([1,2,'a','b'])\n",
    "arr3 = np.array([1,2,3,4], dtype='str')\n",
    "\n",
    "print(arr1, arr1.dtype)\n",
    "print(arr2, arr2.dtype)\n",
    "print(arr3, arr3.dtype)"
   ]
  },
  {
   "cell_type": "code",
   "execution_count": 60,
   "id": "9db40031",
   "metadata": {},
   "outputs": [
    {
     "data": {
      "text/plain": [
       "(array([[8, 8, 8],\n",
       "        [8, 8, 8],\n",
       "        [8, 8, 8],\n",
       "        [8, 8, 8]]),\n",
       " array([['없어', '없어', '없어'],\n",
       "        ['없어', '없어', '없어'],\n",
       "        ['없어', '없어', '없어'],\n",
       "        ['없어', '없어', '없어']], dtype='<U2'),\n",
       " array([[1., 0., 0.],\n",
       "        [0., 1., 0.],\n",
       "        [0., 0., 1.]]),\n",
       " array([ 0, 20, 40, 60, 80]),\n",
       " array([ 0, 20, 40, 60, 80]))"
      ]
     },
     "execution_count": 60,
     "metadata": {},
     "output_type": "execute_result"
    }
   ],
   "source": [
    "arr4 = np.full((4,3),8)                                             # 4x3 행렬을 8로 채움\n",
    "arr4_1 = np.full((4,3),\"없어\")                                      # 4x3 행렬을 \"없어\"로 채움\n",
    "arr5 = np.eye(3)                                                    # 3x3 단위행렬 생성 (float형)\n",
    "arr6 = np.linspace(0,100,5, endpoint = False, dtype=\"int64\")        # 칸을 균등하게 분배(arange랑 비슷), float형 int로 변환 가능\n",
    "arr7 = np.arange(0,100,20)                                          # linspace에 endpoint = False를 안치면 100도 포함\n",
    "arr4 , arr4_1 , arr5 , arr6 , arr7\n"
   ]
  },
  {
   "cell_type": "markdown",
   "id": "d8c739ac",
   "metadata": {},
   "source": [
    "## 2차원"
   ]
  },
  {
   "cell_type": "code",
   "execution_count": 66,
   "id": "5d6ca6cb",
   "metadata": {},
   "outputs": [
    {
     "data": {
      "text/plain": [
       "(array([[1, 2],\n",
       "        [3, 4]]),\n",
       " (2, 2),\n",
       " 4,\n",
       " dtype('int64'),\n",
       " 2,\n",
       " numpy.ndarray)"
      ]
     },
     "execution_count": 66,
     "metadata": {},
     "output_type": "execute_result"
    }
   ],
   "source": [
    "arr20 = np.array([[1,2],[3,4]])\n",
    "arr20 , arr20.shape , arr20.size , arr20.dtype , arr20.ndim , type(arr20)"
   ]
  },
  {
   "cell_type": "code",
   "execution_count": 77,
   "id": "df302b34",
   "metadata": {},
   "outputs": [
    {
     "name": "stdout",
     "output_type": "stream",
     "text": [
      "[[1 2 3]\n",
      " [4 5 6]\n",
      " [7 8 9]] (3, 3) 9 int64 2 <class 'numpy.ndarray'>\n",
      "[[ 1  2  3  4  5]\n",
      " [ 6  7  8  9 10]] (2, 5) 10 int64 2 <class 'numpy.ndarray'>\n",
      "[[ 1  2  3  4  5  6]\n",
      " [ 7  8  9 10 11 12]\n",
      " [13 14 15 16 17 18]] (3, 6) 18 int64 2 <class 'numpy.ndarray'>\n"
     ]
    }
   ],
   "source": [
    "try:\n",
    "    arr21 = np.arange(1,10).reshape(3,3)\n",
    "    print(arr21 , arr21.shape , arr21.size , arr21.dtype , arr21.ndim , type(arr21))\n",
    "    arr22 = np.arange(1,11).reshape(2,5)\n",
    "    print(arr22 , arr22.shape , arr22.size , arr22.dtype , arr22.ndim , type(arr22))\n",
    "    arr23 = np.arange(1,19).reshape(3,6)\n",
    "    print(arr23 , arr23.shape , arr23.size , arr23.dtype , arr23.ndim , type(arr23))\n",
    "except ValueError as e:\n",
    "    print(\"차원과 사이즈가 맞지 않아요\")"
   ]
  },
  {
   "cell_type": "markdown",
   "id": "37950152",
   "metadata": {},
   "source": [
    "## 인덱싱(마스크)"
   ]
  },
  {
   "cell_type": "code",
   "execution_count": 47,
   "id": "248efa5e",
   "metadata": {},
   "outputs": [
    {
     "data": {
      "text/plain": [
       "array([[ 0.13861272, -0.08310697,  0.83562043,  0.23330766],\n",
       "       [-1.44431797,  0.77868985, -0.52754434, -0.45732824],\n",
       "       [-0.78852782, -0.76854173, -0.5710151 ,  0.85815107],\n",
       "       [ 0.33083264, -0.03424585, -0.73644999,  0.59850887],\n",
       "       [-1.4507645 , -0.5178343 , -0.11971234,  0.84110986],\n",
       "       [-1.12977396, -1.12719835, -0.24546784, -0.31083739],\n",
       "       [ 2.00713691,  0.10194053, -0.09099171,  0.26911043],\n",
       "       [-0.84493822, -1.60648841, -0.3545138 ,  0.27920113]])"
      ]
     },
     "execution_count": 47,
     "metadata": {},
     "output_type": "execute_result"
    }
   ],
   "source": [
    "import numpy as np\n",
    "# 난수 발생\n",
    "# np.random.rand : 균등 분포 , 0~1 사이, 확률 / 비율 등 기본 난수 생성\n",
    "# np.random.randn : 표준 정규 분포 , \n",
    "ran_data = np.random.randn(8,4)\n",
    "ran_data"
   ]
  },
  {
   "cell_type": "code",
   "execution_count": null,
   "id": "b78c7601",
   "metadata": {},
   "outputs": [
    {
     "data": {
      "text/plain": [
       "array([ True, False,  True, False, False,  True,  True, False])"
      ]
     },
     "execution_count": 6,
     "metadata": {},
     "output_type": "execute_result"
    }
   ],
   "source": [
    "mask = np.array([True,False,True,False,False,True,True,False])\n",
    "mask"
   ]
  },
  {
   "cell_type": "code",
   "execution_count": 7,
   "id": "9e3aa123",
   "metadata": {},
   "outputs": [
    {
     "data": {
      "text/plain": [
       "array([[-1.72661609,  0.70198116,  1.07901906,  0.51923743],\n",
       "       [ 1.10373653, -0.62329781, -0.79738438,  0.88905436],\n",
       "       [-0.0267716 , -0.732358  ,  1.82722271, -0.25146472],\n",
       "       [ 0.63058916, -1.03939289,  0.60533603,  0.0814014 ]])"
      ]
     },
     "execution_count": 7,
     "metadata": {},
     "output_type": "execute_result"
    }
   ],
   "source": [
    "ran_data[mask]"
   ]
  },
  {
   "cell_type": "code",
   "execution_count": null,
   "id": "16e140b7",
   "metadata": {},
   "outputs": [
    {
     "data": {
      "text/plain": [
       "array(['apple', 'banana', 'apple', 'kiwi', 'orange', 'apple', 'apple',\n",
       "       'melon'], dtype='<U6')"
      ]
     },
     "execution_count": 8,
     "metadata": {},
     "output_type": "execute_result"
    }
   ],
   "source": [
    "fruit = np.array(['apple','banana','apple','kiwi','orange','apple','apple','melon'])\n",
    "fruit"
   ]
  },
  {
   "cell_type": "code",
   "execution_count": 10,
   "id": "a1298b3a",
   "metadata": {},
   "outputs": [
    {
     "data": {
      "text/plain": [
       "array([ True, False,  True, False, False,  True,  True, False])"
      ]
     },
     "execution_count": 10,
     "metadata": {},
     "output_type": "execute_result"
    }
   ],
   "source": [
    "fruit_mask = (fruit == 'apple')\n",
    "fruit_mask"
   ]
  },
  {
   "cell_type": "code",
   "execution_count": 11,
   "id": "ec645b6e",
   "metadata": {},
   "outputs": [
    {
     "data": {
      "text/plain": [
       "array([[-1.72661609,  0.70198116,  1.07901906,  0.51923743],\n",
       "       [ 1.10373653, -0.62329781, -0.79738438,  0.88905436],\n",
       "       [-0.0267716 , -0.732358  ,  1.82722271, -0.25146472],\n",
       "       [ 0.63058916, -1.03939289,  0.60533603,  0.0814014 ]])"
      ]
     },
     "execution_count": 11,
     "metadata": {},
     "output_type": "execute_result"
    }
   ],
   "source": [
    "ran_data[fruit_mask]"
   ]
  },
  {
   "cell_type": "code",
   "execution_count": null,
   "id": "c369a18a",
   "metadata": {},
   "outputs": [
    {
     "data": {
      "text/plain": [
       "array([[ 0.70198116,  1.07901906],\n",
       "       [-0.62329781, -0.79738438],\n",
       "       [ 0.01325079,  0.62021113],\n",
       "       [-0.732358  ,  1.82722271],\n",
       "       [-1.03939289,  0.60533603]])"
      ]
     },
     "execution_count": 14,
     "metadata": {},
     "output_type": "execute_result"
    }
   ],
   "source": [
    "ran_data[(fruit == 'apple')|(fruit=='orange'),1:3]      # ran_data[행,열]"
   ]
  },
  {
   "cell_type": "markdown",
   "id": "92f66381",
   "metadata": {},
   "source": [
    "## 인덱스와 마스크의 응용"
   ]
  },
  {
   "cell_type": "code",
   "execution_count": 17,
   "id": "e25a9bfc",
   "metadata": {},
   "outputs": [
    {
     "data": {
      "text/plain": [
       "array([[-1.72661609,  0.70198116,  1.07901906,  0.51923743],\n",
       "       [ 0.25216545, -0.60167925, -0.75321461,  0.13210873],\n",
       "       [ 1.10373653, -0.62329781, -0.79738438,  0.88905436],\n",
       "       [ 0.84311875,  0.45589479, -0.18016096, -0.46279047],\n",
       "       [-0.61312255,  0.01325079,  0.62021113, -0.50154526],\n",
       "       [-0.0267716 , -0.732358  ,  1.82722271, -0.25146472],\n",
       "       [ 0.63058916, -1.03939289,  0.60533603,  0.0814014 ],\n",
       "       [-0.43699112,  0.23146432, -1.32922028, -0.84056068]])"
      ]
     },
     "execution_count": 17,
     "metadata": {},
     "output_type": "execute_result"
    }
   ],
   "source": [
    "ran_data"
   ]
  },
  {
   "cell_type": "code",
   "execution_count": 45,
   "id": "c49c874a",
   "metadata": {},
   "outputs": [
    {
     "ename": "TypeError",
     "evalue": "'int' object is not subscriptable",
     "output_type": "error",
     "traceback": [
      "\u001b[31m---------------------------------------------------------------------------\u001b[39m",
      "\u001b[31mTypeError\u001b[39m                                 Traceback (most recent call last)",
      "\u001b[36mCell\u001b[39m\u001b[36m \u001b[39m\u001b[32mIn[45]\u001b[39m\u001b[32m, line 1\u001b[39m\n\u001b[32m----> \u001b[39m\u001b[32m1\u001b[39m \u001b[43mran_data\u001b[49m\u001b[43m[\u001b[49m\u001b[43m:\u001b[49m\u001b[43m,\u001b[49m\u001b[43m:\u001b[49m\u001b[43m]\u001b[49m > \u001b[32m0\u001b[39m\n",
      "\u001b[31mTypeError\u001b[39m: 'int' object is not subscriptable"
     ]
    }
   ],
   "source": [
    "ran_data[:,:] > 0"
   ]
  },
  {
   "cell_type": "code",
   "execution_count": 51,
   "id": "0acfcd66",
   "metadata": {},
   "outputs": [
    {
     "name": "stdout",
     "output_type": "stream",
     "text": [
      "[[0. 0.]\n",
      " [0. 0.]\n",
      " [0. 0.]\n",
      " [0. 0.]\n",
      " [0. 0.]]\n",
      "[[ 0.13861272 -0.08310697  0.83562043  0.23330766]\n",
      " [-1.44431797  0.77868985  0.          0.        ]\n",
      " [-0.78852782 -0.76854173  0.          0.        ]\n",
      " [ 0.33083264 -0.03424585 -0.73644999  0.59850887]\n",
      " [-1.4507645  -0.5178343   0.          0.        ]\n",
      " [-1.12977396 -1.12719835  0.          0.        ]\n",
      " [ 2.00713691  0.10194053 -0.09099171  0.26911043]\n",
      " [-0.84493822 -1.60648841  0.          0.        ]]\n"
     ]
    }
   ],
   "source": [
    "# ran_data에서 0번째 열의 값이 0보다 작은 행의 2,3번째 열의 값만 추출하라.\n",
    "# 위 값들만 0으로 담아서 전체 배열에다가 표시하라.\n",
    "\n",
    "row = ran_data[:,0] < 0\n",
    "result1 = ran_data[row, 2:4]\n",
    "print(result1)\n",
    "ran_data[row, 2:4] = 0\n",
    "print(ran_data)\n"
   ]
  },
  {
   "cell_type": "code",
   "execution_count": null,
   "id": "cdc7a25b",
   "metadata": {},
   "outputs": [
    {
     "data": {
      "text/plain": [
       "array([[ 0.13861272, -0.08310697,  0.83562043,  0.23330766],\n",
       "       [-1.44431797,  0.77868985,         nan,         nan],\n",
       "       [-0.78852782, -0.76854173,         nan,         nan],\n",
       "       [ 0.33083264, -0.03424585, -0.73644999,  0.59850887],\n",
       "       [-1.4507645 , -0.5178343 ,         nan,         nan],\n",
       "       [-1.12977396, -1.12719835,         nan,         nan],\n",
       "       [ 2.00713691,  0.10194053, -0.09099171,  0.26911043],\n",
       "       [-0.84493822, -1.60648841,         nan,         nan]])"
      ]
     },
     "execution_count": 53,
     "metadata": {},
     "output_type": "execute_result"
    }
   ],
   "source": [
    "# np.nan : 숫자타입인데 숫자로 표현할 수 없는 것을 nan으로 표현(결측치)\n",
    "row = ran_data[:,0] < 0\n",
    "ran_data[row, 2:4] = np.nan\n",
    "ran_data"
   ]
  },
  {
   "cell_type": "code",
   "execution_count": 63,
   "id": "4abdbf14",
   "metadata": {},
   "outputs": [
    {
     "data": {
      "text/plain": [
       "array([[ 0.13861272, -0.08310697,  0.83562043,  0.23330766],\n",
       "       [ 0.33083264, -0.03424585, -0.73644999,  0.59850887],\n",
       "       [ 2.00713691,  0.10194053, -0.09099171,  0.26911043]])"
      ]
     },
     "execution_count": 63,
     "metadata": {},
     "output_type": "execute_result"
    }
   ],
   "source": [
    "# any(axis = k)   -- k가 0이면 열 1이면 행\n",
    "# ~는 반대(not 연산자), nan이 없는 행만 추출하는 것\n",
    "# ran_data[np.isnan(ran_data).any(axis=1)]\n",
    "ran_data[~np.isnan(ran_data).any(axis=1)]"
   ]
  },
  {
   "cell_type": "code",
   "execution_count": 77,
   "id": "465925c6",
   "metadata": {},
   "outputs": [
    {
     "data": {
      "text/plain": [
       "array([[0.3723073 , 0.28828279, 0.91412277, 0.48301932],\n",
       "       [0.57518053, 0.18505635, 0.85816665, 0.77363355],\n",
       "       [1.41673459, 0.31928127, 0.30164832, 0.51875855]])"
      ]
     },
     "execution_count": 77,
     "metadata": {},
     "output_type": "execute_result"
    }
   ],
   "source": [
    "# fix_data 안에 있는 값 중 -만 제거\n",
    "# sqrt를 통해 제곱하기\n",
    "\n",
    "fix_data = ran_data[~np.isnan(ran_data).any(axis=1)]\n",
    "fix_data2 = np.abs(fix_data)\n",
    "fix_data3 = np.sqrt(fix_data2)\n",
    "fix_data3"
   ]
  },
  {
   "cell_type": "code",
   "execution_count": null,
   "id": "86ce08dd",
   "metadata": {},
   "outputs": [
    {
     "data": {
      "text/plain": [
       "array([[-0.9880357 , -1.24381338, -0.0897904 , -0.72769863],\n",
       "       [-0.55307133, -1.6870949 , -0.15295697, -0.25665697],\n",
       "       [ 0.34835464, -1.14168285, -1.19849345, -0.65631673]])"
      ]
     },
     "execution_count": 79,
     "metadata": {},
     "output_type": "execute_result"
    }
   ],
   "source": [
    "# np.log를 통해 로그 데이터 연산\n",
    "fix_data4 = np.log(fix_data3)\n",
    "fix_data4"
   ]
  },
  {
   "cell_type": "code",
   "execution_count": null,
   "id": "044c1770",
   "metadata": {},
   "outputs": [
    {
     "data": {
      "text/plain": [
       "array([[-1., -1., -1., -1.],\n",
       "       [-1., -1., -1., -1.],\n",
       "       [ 1., -1., -1., -1.]])"
      ]
     },
     "execution_count": 80,
     "metadata": {},
     "output_type": "execute_result"
    }
   ],
   "source": [
    "# np.sign() : -는 -1, +는 1로 표시\n",
    "\n",
    "np.sign(fix_data4)"
   ]
  },
  {
   "cell_type": "code",
   "execution_count": null,
   "id": "f67be90b",
   "metadata": {},
   "outputs": [
    {
     "data": {
      "text/plain": [
       "array([[ 0.55033101,  0.3211873 ,  0.99597155,  0.74670714],\n",
       "       [ 0.85091516, -0.11603658,  0.98832487,  0.967244  ],\n",
       "       [ 0.93993563,  0.41606482,  0.3637615 ,  0.79224514]])"
      ]
     },
     "execution_count": 81,
     "metadata": {},
     "output_type": "execute_result"
    }
   ],
   "source": [
    "# 삼각함수 값을 계산하기 (cos, cosh, sin, sinh, tan, tanh)\n",
    "\n",
    "np.cos(fix_data4)"
   ]
  },
  {
   "cell_type": "code",
   "execution_count": 82,
   "id": "5b41f301",
   "metadata": {},
   "outputs": [
    {
     "data": {
      "text/plain": [
       "(array([[-0.41314491,  0.81166586, -1.4415638 ,  0.83641997],\n",
       "        [ 1.2534272 , -0.85653589, -0.93079385, -2.75853615],\n",
       "        [-1.20945005,  0.74116984,  1.13230506, -1.00314601],\n",
       "        [ 0.80667135, -0.32077595,  0.05418833, -0.34359516],\n",
       "        [-0.1219559 ,  0.27409738, -0.43013556,  1.38798859],\n",
       "        [-1.62577422,  0.11739891,  0.0665389 ,  2.16138095],\n",
       "        [-0.90030896, -0.25396369,  0.01607942, -0.78448035],\n",
       "        [-0.79002757,  0.65832508, -0.70377048, -0.82329692]]),\n",
       " array([[ 0.91374502,  1.59053934, -1.78351664, -1.50782756],\n",
       "        [ 0.57087724,  0.22283179,  1.49579577,  0.31725379],\n",
       "        [-1.82657593,  0.32880245, -0.26100508,  1.27050058],\n",
       "        [-0.40539304,  0.43365139,  1.11165786, -0.85957857],\n",
       "        [ 0.31399415, -0.12944907,  0.34902163, -1.66710152],\n",
       "        [ 1.12482737,  0.95524627, -0.20037203, -0.4782921 ],\n",
       "        [-1.56779971, -1.85953318,  0.60086386, -0.79918024],\n",
       "        [-1.06850947, -1.21827427, -0.60959097,  0.5808164 ]]))"
      ]
     },
     "execution_count": 82,
     "metadata": {},
     "output_type": "execute_result"
    }
   ],
   "source": [
    "# 두개의 array에 동일한 위치의 요소끼리 비교 하기\n",
    "\n",
    "data1 = np.random.randn(8,4)\n",
    "data2 = np.random.randn(8,4)\n",
    "data1, data2"
   ]
  },
  {
   "cell_type": "code",
   "execution_count": null,
   "id": "7d9ee971",
   "metadata": {},
   "outputs": [
    {
     "data": {
      "text/plain": [
       "array([[ 0.91374502,  1.59053934, -1.4415638 ,  0.83641997],\n",
       "       [ 1.2534272 ,  0.22283179,  1.49579577,  0.31725379],\n",
       "       [-1.20945005,  0.74116984,  1.13230506,  1.27050058],\n",
       "       [ 0.80667135,  0.43365139,  1.11165786, -0.34359516],\n",
       "       [ 0.31399415,  0.27409738,  0.34902163,  1.38798859],\n",
       "       [ 1.12482737,  0.95524627,  0.0665389 ,  2.16138095],\n",
       "       [-0.90030896, -0.25396369,  0.60086386, -0.78448035],\n",
       "       [-0.79002757,  0.65832508, -0.60959097,  0.5808164 ]])"
      ]
     },
     "execution_count": 83,
     "metadata": {},
     "output_type": "execute_result"
    }
   ],
   "source": [
    "# np.maximum : 각 위치의 요소끼리 비교해서 큰값을 뽑는것\n",
    "\n",
    "np.maximum(data1, data2)"
   ]
  },
  {
   "cell_type": "code",
   "execution_count": 84,
   "id": "a5305194",
   "metadata": {},
   "outputs": [
    {
     "data": {
      "text/plain": [
       "array([[-0.41314491,  0.81166586, -1.78351664, -1.50782756],\n",
       "       [ 0.57087724, -0.85653589, -0.93079385, -2.75853615],\n",
       "       [-1.82657593,  0.32880245, -0.26100508, -1.00314601],\n",
       "       [-0.40539304, -0.32077595,  0.05418833, -0.85957857],\n",
       "       [-0.1219559 , -0.12944907, -0.43013556, -1.66710152],\n",
       "       [-1.62577422,  0.11739891, -0.20037203, -0.4782921 ],\n",
       "       [-1.56779971, -1.85953318,  0.01607942, -0.79918024],\n",
       "       [-1.06850947, -1.21827427, -0.70377048, -0.82329692]])"
      ]
     },
     "execution_count": 84,
     "metadata": {},
     "output_type": "execute_result"
    }
   ],
   "source": [
    "# np.minimum : 각 위치의 요소끼리 비교해서 작은값을 뽑는것\n",
    "\n",
    "np.minimum(data1, data2)"
   ]
  },
  {
   "cell_type": "code",
   "execution_count": null,
   "id": "65a3811f",
   "metadata": {},
   "outputs": [
    {
     "data": {
      "text/plain": [
       "array([[0.        , 0.81166586, 0.        , 0.83641997],\n",
       "       [1.2534272 , 0.        , 0.        , 0.        ],\n",
       "       [0.        , 0.74116984, 1.13230506, 0.        ],\n",
       "       [0.80667135, 0.        , 0.05418833, 0.        ],\n",
       "       [0.        , 0.27409738, 0.        , 1.38798859],\n",
       "       [0.        , 0.11739891, 0.0665389 , 2.16138095],\n",
       "       [0.        , 0.        , 0.01607942, 0.        ],\n",
       "       [0.        , 0.65832508, 0.        , 0.        ]])"
      ]
     },
     "execution_count": 85,
     "metadata": {},
     "output_type": "execute_result"
    }
   ],
   "source": [
    "np.maximum(data1, 0) # ReLU(x) 같다."
   ]
  },
  {
   "cell_type": "code",
   "execution_count": 86,
   "id": "dc3de352",
   "metadata": {},
   "outputs": [
    {
     "data": {
      "text/plain": [
       "array([[0.91374502, 1.59053934, 0.5       , 0.5       ],\n",
       "       [0.57087724, 0.5       , 1.49579577, 0.5       ],\n",
       "       [0.5       , 0.5       , 0.5       , 1.27050058],\n",
       "       [0.5       , 0.5       , 1.11165786, 0.5       ],\n",
       "       [0.5       , 0.5       , 0.5       , 0.5       ],\n",
       "       [1.12482737, 0.95524627, 0.5       , 0.5       ],\n",
       "       [0.5       , 0.5       , 0.60086386, 0.5       ],\n",
       "       [0.5       , 0.5       , 0.5       , 0.5808164 ]])"
      ]
     },
     "execution_count": 86,
     "metadata": {},
     "output_type": "execute_result"
    }
   ],
   "source": [
    "# 상한 하한 걸기\n",
    "\n",
    "np.minimum(np.maximum(data2,0.5),1.7)"
   ]
  },
  {
   "cell_type": "markdown",
   "id": "f8fa9f37",
   "metadata": {},
   "source": [
    "## 통계함수"
   ]
  },
  {
   "cell_type": "code",
   "execution_count": 87,
   "id": "a56c3c6c",
   "metadata": {},
   "outputs": [
    {
     "data": {
      "text/plain": [
       "array([[-0.97576085, -1.45253552,  0.61615737,  0.00404219],\n",
       "       [-0.03530846, -0.08982726, -0.20662687, -0.53902612],\n",
       "       [-0.26779819,  0.15429606, -0.19863557,  1.05232899],\n",
       "       [-0.20533911,  0.32118675, -1.41424274, -1.54667553]])"
      ]
     },
     "execution_count": 87,
     "metadata": {},
     "output_type": "execute_result"
    }
   ],
   "source": [
    "data = np.random.randn(4,4)\n",
    "data"
   ]
  },
  {
   "cell_type": "code",
   "execution_count": 88,
   "id": "4928a771",
   "metadata": {},
   "outputs": [
    {
     "data": {
      "text/plain": [
       "np.float64(-4.783764866752382)"
      ]
     },
     "execution_count": 88,
     "metadata": {},
     "output_type": "execute_result"
    }
   ],
   "source": [
    "np.sum(data)"
   ]
  },
  {
   "cell_type": "code",
   "execution_count": 89,
   "id": "a559fe48",
   "metadata": {},
   "outputs": [
    {
     "data": {
      "text/plain": [
       "array([-1.80809681, -0.8707887 ,  0.74019128, -2.84507063])"
      ]
     },
     "execution_count": 89,
     "metadata": {},
     "output_type": "execute_result"
    }
   ],
   "source": [
    "np.sum(data, axis=1)"
   ]
  },
  {
   "cell_type": "code",
   "execution_count": 90,
   "id": "0763b520",
   "metadata": {},
   "outputs": [
    {
     "data": {
      "text/plain": [
       "array([-1.48420661, -1.06687998, -1.20334781, -1.02933047])"
      ]
     },
     "execution_count": 90,
     "metadata": {},
     "output_type": "execute_result"
    }
   ],
   "source": [
    "np.sum(data, axis=0)"
   ]
  },
  {
   "cell_type": "code",
   "execution_count": null,
   "id": "9a0c40c5",
   "metadata": {},
   "outputs": [
    {
     "data": {
      "text/plain": [
       "array([-0.83637815, -0.29645413, -0.04433951, -1.09305599])"
      ]
     },
     "execution_count": 92,
     "metadata": {},
     "output_type": "execute_result"
    }
   ],
   "source": [
    "# 0 - 3열 값을 버리고 1-2열의 각 행의 합을 나타내기\n",
    "\n",
    "np.sum(data[:,1:3], axis=1)"
   ]
  },
  {
   "cell_type": "code",
   "execution_count": 95,
   "id": "b2d77dd9",
   "metadata": {},
   "outputs": [
    {
     "data": {
      "text/plain": [
       "array([[-0.07813446, -0.33260748, -0.02619717, -0.66836866, -0.95100545],\n",
       "       [-0.59535313, -0.96851708,  0.38029659,  0.52801272, -1.28156928],\n",
       "       [ 1.05973698,  1.41169473,  0.42011507,  1.32492625, -0.62897991]])"
      ]
     },
     "execution_count": 95,
     "metadata": {},
     "output_type": "execute_result"
    }
   ],
   "source": [
    "data2 = np.random.randn(3,5)\n",
    "data2"
   ]
  },
  {
   "cell_type": "code",
   "execution_count": 96,
   "id": "70b72c2e",
   "metadata": {},
   "outputs": [
    {
     "data": {
      "text/plain": [
       "np.float64(-0.02706335213088064)"
      ]
     },
     "execution_count": 96,
     "metadata": {},
     "output_type": "execute_result"
    }
   ],
   "source": [
    "np.mean(data2)"
   ]
  },
  {
   "cell_type": "code",
   "execution_count": 97,
   "id": "1aed62c9",
   "metadata": {},
   "outputs": [
    {
     "data": {
      "text/plain": [
       "array([ 0.1287498 ,  0.03685672,  0.25807149,  0.39485677, -0.95385154])"
      ]
     },
     "execution_count": 97,
     "metadata": {},
     "output_type": "execute_result"
    }
   ],
   "source": [
    "np.mean(data2, axis=0)"
   ]
  },
  {
   "cell_type": "code",
   "execution_count": 98,
   "id": "9ca2674e",
   "metadata": {},
   "outputs": [
    {
     "data": {
      "text/plain": [
       "array([-0.41126264, -0.38742604,  0.71749862])"
      ]
     },
     "execution_count": 98,
     "metadata": {},
     "output_type": "execute_result"
    }
   ],
   "source": [
    "np.mean(data2, axis=1)"
   ]
  },
  {
   "cell_type": "code",
   "execution_count": 99,
   "id": "5e143706",
   "metadata": {},
   "outputs": [
    {
     "data": {
      "text/plain": [
       "array([-0.95100545, -1.28156928, -0.62897991])"
      ]
     },
     "execution_count": 99,
     "metadata": {},
     "output_type": "execute_result"
    }
   ],
   "source": [
    "# minimum은 두개의 행렬을 비교\n",
    "# min은 한 행렬 안에서의 정리\n",
    "\n",
    "np.min(data2, axis=1)"
   ]
  },
  {
   "cell_type": "code",
   "execution_count": null,
   "id": "e850106d",
   "metadata": {},
   "outputs": [
    {
     "data": {
      "text/plain": [
       "np.float64(0.8270163445403521)"
      ]
     },
     "execution_count": 100,
     "metadata": {},
     "output_type": "execute_result"
    }
   ],
   "source": [
    "# 표준편차 계산\n",
    "\n",
    "np.std(data2)"
   ]
  },
  {
   "cell_type": "code",
   "execution_count": 101,
   "id": "1c87a018",
   "metadata": {},
   "outputs": [
    {
     "data": {
      "text/plain": [
       "np.float64(0.6839560341368863)"
      ]
     },
     "execution_count": 101,
     "metadata": {},
     "output_type": "execute_result"
    }
   ],
   "source": [
    "# 분산 계산\n",
    "\n",
    "np.var(data2)"
   ]
  },
  {
   "cell_type": "code",
   "execution_count": null,
   "id": "2adbcef7",
   "metadata": {},
   "outputs": [
    {
     "data": {
      "text/plain": [
       "array([[-0.62897991,  0.42011507,  1.05973698,  1.32492625,  1.41169473],\n",
       "       [-1.28156928, -0.96851708, -0.59535313,  0.38029659,  0.52801272],\n",
       "       [-0.95100545, -0.66836866, -0.33260748, -0.07813446, -0.02619717]])"
      ]
     },
     "execution_count": 106,
     "metadata": {},
     "output_type": "execute_result"
    }
   ],
   "source": [
    "# [::-1]하면 뒤집는다는 것 (::가 전체를 의미, -1이 뒤집다)\n",
    "\n",
    "np.sort(data2)[::-1]"
   ]
  },
  {
   "cell_type": "code",
   "execution_count": 104,
   "id": "7e6036aa",
   "metadata": {},
   "outputs": [
    {
     "data": {
      "text/plain": [
       "array([[-0.59535313, -0.96851708, -0.02619717, -0.66836866, -1.28156928],\n",
       "       [-0.07813446, -0.33260748,  0.38029659,  0.52801272, -0.95100545],\n",
       "       [ 1.05973698,  1.41169473,  0.42011507,  1.32492625, -0.62897991]])"
      ]
     },
     "execution_count": 104,
     "metadata": {},
     "output_type": "execute_result"
    }
   ],
   "source": [
    "# np.sort 정렬 \n",
    "\n",
    "np.sort(data2, axis=0)"
   ]
  },
  {
   "cell_type": "code",
   "execution_count": null,
   "id": "7c58985d",
   "metadata": {},
   "outputs": [
    {
     "data": {
      "text/plain": [
       "array([[[85, 90, 88, 92]],\n",
       "\n",
       "       [[78, 81, 85, 86]],\n",
       "\n",
       "       [[92, 88, 91, 90]],\n",
       "\n",
       "       [[70, 75, 72, 78]],\n",
       "\n",
       "       [[88, 85, 84, 89]]])"
      ]
     },
     "execution_count": 110,
     "metadata": {},
     "output_type": "execute_result"
    }
   ],
   "source": [
    "student1 = [85,90,88,92]\n",
    "student2 = [78,81,85,86]\n",
    "student3 = [92,88,91,90]\n",
    "student4 = [70,75,72,78]\n",
    "student5 = [88,85,84,89]\n",
    "\n",
    "scores = np.array([[student1],[student2],[student3],[student4],[student5]])"
   ]
  },
  {
   "cell_type": "code",
   "execution_count": 113,
   "id": "c0dbea55",
   "metadata": {},
   "outputs": [
    {
     "name": "stdout",
     "output_type": "stream",
     "text": [
      "88.75 82.5 90.25 73.75 86.5\n"
     ]
    }
   ],
   "source": [
    "# 각 학생의 평균\n",
    "\n",
    "student1_avg = np.average(student1)\n",
    "student2_avg = np.average(student2)\n",
    "student3_avg = np.average(student3)\n",
    "student4_avg = np.average(student4)\n",
    "student5_avg = np.average(student5)\n",
    "\n",
    "print(student1_avg,student2_avg,student3_avg,student4_avg,student5_avg)"
   ]
  },
  {
   "cell_type": "code",
   "execution_count": 118,
   "id": "b7872041",
   "metadata": {},
   "outputs": [
    {
     "name": "stdout",
     "output_type": "stream",
     "text": [
      "[[7.78716893 5.34415569 6.4807407  4.89897949]]\n"
     ]
    },
    {
     "data": {
      "text/plain": [
       "np.float64(4.898979485566356)"
      ]
     },
     "execution_count": 118,
     "metadata": {},
     "output_type": "execute_result"
    }
   ],
   "source": [
    "# 성적이 가장 안정적인 학생을 찾으시오(표준편차가 낮은 학생)\n",
    "\n",
    "scores_std = np.std(scores, axis = 0)\n",
    "\n",
    "print(scores_std)\n",
    "\n",
    "np.min(scores_std)"
   ]
  },
  {
   "cell_type": "code",
   "execution_count": null,
   "id": "26496d6e",
   "metadata": {},
   "outputs": [
    {
     "name": "stdout",
     "output_type": "stream",
     "text": [
      "[[[False False False  True]]\n",
      "\n",
      " [[False False False False]]\n",
      "\n",
      " [[ True False  True False]]\n",
      "\n",
      " [[False False False False]]\n",
      "\n",
      " [[False False False False]]]\n"
     ]
    }
   ],
   "source": [
    "# 90점 이상의 과목수가 가장 많은 학생의 점수를 나열하시오\n",
    "\n",
    "ret = np.array(scores) > 90\n",
    "print(ret)\n",
    "\n"
   ]
  }
 ],
 "metadata": {
  "kernelspec": {
   "display_name": "Python 3 (ipykernel)",
   "language": "python",
   "name": "python3"
  },
  "language_info": {
   "codemirror_mode": {
    "name": "ipython",
    "version": 3
   },
   "file_extension": ".py",
   "mimetype": "text/x-python",
   "name": "python",
   "nbconvert_exporter": "python",
   "pygments_lexer": "ipython3",
   "version": "3.13.3"
  }
 },
 "nbformat": 4,
 "nbformat_minor": 5
}

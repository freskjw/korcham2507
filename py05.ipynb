{
 "cells": [
  {
   "cell_type": "markdown",
   "id": "c8caaf59",
   "metadata": {},
   "source": [
    "# 머신러닝기초"
   ]
  },
  {
   "cell_type": "code",
   "execution_count": 6,
   "id": "4b60f7ad",
   "metadata": {},
   "outputs": [],
   "source": [
    "# pip install scikit-learn"
   ]
  },
  {
   "cell_type": "code",
   "execution_count": null,
   "id": "44ecae4c",
   "metadata": {},
   "outputs": [],
   "source": [
    "import pandas as pd\n",
    "from sklearn.model_selection import train_test_split            # 데이터를 섞는 것\n",
    "\n",
    "# 데이터 불러오기 head() / tail() / sample()\n",
    "df = pd.read_csv(\"C:/kjw/iris.csv\")\n",
    "df.head(10)\n",
    "\n",
    "# 특성하고 타겟을 분리  // x는 변수 , y는 정답\n",
    "x = df.drop('Species', axis=1) # 꽃받침 , 길이, 넓이\n",
    "y = df['Species']\n",
    "\n",
    "# 훈련 / 테스트 데이터의 분할\n",
    "x_train, x_test, y_train, y_test = train_test_split(\n",
    "     x, y, test_size=0.2 , random_state=42\n",
    " )\n",
    "\n",
    "# 모델학습 (KNN)\n",
    "from sklearn.neighbors import KNeighborsClassifier\n",
    "knn = KNeighborsClassifier(n_neighbors=3)\n",
    "knn.fit(x_train, y_train)\n",
    "\n",
    "# \n"
   ]
  }
 ],
 "metadata": {
  "kernelspec": {
   "display_name": "Python 3 (ipykernel)",
   "language": "python",
   "name": "python3"
  },
  "language_info": {
   "codemirror_mode": {
    "name": "ipython",
    "version": 3
   },
   "file_extension": ".py",
   "mimetype": "text/x-python",
   "name": "python",
   "nbconvert_exporter": "python",
   "pygments_lexer": "ipython3",
   "version": "3.13.3"
  }
 },
 "nbformat": 4,
 "nbformat_minor": 5
}

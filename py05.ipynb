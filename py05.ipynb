{
 "cells": [
  {
   "cell_type": "markdown",
   "id": "c8caaf59",
   "metadata": {},
   "source": [
    "# 머신러닝기초"
   ]
  },
  {
   "cell_type": "code",
   "execution_count": null,
   "id": "4b60f7ad",
   "metadata": {},
   "outputs": [],
   "source": [
    "# pip install scikit-learn\n",
    "\n",
    "# 모수적, 비모수적(KNN)"
   ]
  },
  {
   "cell_type": "code",
   "execution_count": 15,
   "id": "44ecae4c",
   "metadata": {},
   "outputs": [],
   "source": [
    "import pandas as pd\n",
    "from sklearn.model_selection import train_test_split            # 데이터를 섞는 것\n",
    "\n",
    "# 데이터 불러오기 head() / tail() / sample()\n",
    "df = pd.read_csv(\"C:/kjw/iris.csv\")\n",
    "df.head(10)\n",
    "\n",
    "# 특성하고 타겟을 분리  // x는 변수 , y는 정답\n",
    "x = df.drop('Species', axis=1) # 꽃받침 , 길이, 넓이\n",
    "y = df['Species']\n",
    "\n",
    "# ---- 여기까지가 중요한 작업(데이터 전처리) : 이게 잘 되어있어야 아래 학습도 제대로 되는것임\n"
   ]
  },
  {
   "cell_type": "code",
   "execution_count": null,
   "id": "fc3dffc0",
   "metadata": {},
   "outputs": [
    {
     "name": "stdout",
     "output_type": "stream",
     "text": [
      "정확도: 1.0\n",
      "리포트:               precision    recall  f1-score   support\n",
      "\n",
      "      setosa       1.00      1.00      1.00        10\n",
      "  versicolor       1.00      1.00      1.00         9\n",
      "   virginica       1.00      1.00      1.00        11\n",
      "\n",
      "    accuracy                           1.00        30\n",
      "   macro avg       1.00      1.00      1.00        30\n",
      "weighted avg       1.00      1.00      1.00        30\n",
      "\n",
      "예측 클래스: setosa\n"
     ]
    }
   ],
   "source": [
    "\n",
    "# 훈련 / 테스트 데이터의 분할\n",
    "x_train, x_test, y_train, y_test = train_test_split(\n",
    "     x, y, test_size=0.2 , random_state=42\n",
    " )\n",
    "\n",
    "# 모델학습 (KNN)\n",
    "from sklearn.neighbors import KNeighborsClassifier\n",
    "knn = KNeighborsClassifier(n_neighbors=3)\n",
    "knn.fit(x_train, y_train)                                       # 이걸로 해서 x와 y사이의 공식은 만들어진 상태\n",
    "\n",
    "# 예측 및 평가\n",
    "from sklearn.metrics import accuracy_score , classification_report\n",
    "y_pred = knn.predict(x_test)\n",
    "x_test , y_pred , y_test\n",
    "print(\"정확도:\", accuracy_score(y_test, y_pred))\n",
    "print(\"리포트:\", classification_report(y_test, y_pred))\n",
    "\n",
    "# 새로운 데이터 예측\n",
    "import numpy as np\n",
    "# feature names 예시(iris 데이터 기준)\n",
    "inputs = [5.1, 5.5, 1.4, 0.2]\n",
    "feature_names = ['Sepal.Length', 'Sepal.Width', 'Petal.Length', 'Petal.Width']\n",
    "new_data = pd.DataFrame([inputs], columns=feature_names)\n",
    "pred_class = knn.predict(new_data)\n",
    "print(\"예측 클래스:\", pred_class[0])"
   ]
  },
  {
   "cell_type": "code",
   "execution_count": null,
   "id": "e9adb042",
   "metadata": {},
   "outputs": [
    {
     "data": {
      "text/plain": [
       "0      0\n",
       "1      0\n",
       "2      0\n",
       "3      0\n",
       "4      0\n",
       "      ..\n",
       "145    2\n",
       "146    2\n",
       "147    2\n",
       "148    2\n",
       "149    2\n",
       "Name: target, Length: 150, dtype: int64"
      ]
     },
     "execution_count": 25,
     "metadata": {},
     "output_type": "execute_result"
    }
   ],
   "source": [
    "import pandas as pd\n",
    "from sklearn.model_selection import train_test_split\n",
    "from sklearn.preprocessing import StandardScaler\n",
    "from sklearn.ensemble import RandomForestClassifier\n",
    "from sklearn.metrics import classification_report , accuracy_score\n",
    "\n",
    "# 데이터를 사이킷런에서 가져오기\n",
    "from sklearn.datasets import load_iris\n",
    "iris = load_iris()\n",
    "df = pd.DataFrame(iris.data, columns = iris.feature_names)\n",
    "df.sample(10)\n",
    "df['target'] = iris.target\n",
    "df\n",
    "\n",
    "# 특성과 타겟 분리\n",
    "X = df.drop('target', axis=1)\n",
    "Y = df['target']\n",
    "\n",
    "# 학습 / 학습데이터 분할\n"
   ]
  }
 ],
 "metadata": {
  "kernelspec": {
   "display_name": "Python 3 (ipykernel)",
   "language": "python",
   "name": "python3"
  },
  "language_info": {
   "codemirror_mode": {
    "name": "ipython",
    "version": 3
   },
   "file_extension": ".py",
   "mimetype": "text/x-python",
   "name": "python",
   "nbconvert_exporter": "python",
   "pygments_lexer": "ipython3",
   "version": "3.13.3"
  }
 },
 "nbformat": 4,
 "nbformat_minor": 5
}

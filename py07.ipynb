{
 "cells": [
  {
   "cell_type": "markdown",
   "id": "83113b41",
   "metadata": {},
   "source": [
    "# 영상처리"
   ]
  },
  {
   "cell_type": "code",
   "execution_count": 2,
   "id": "a7b6bc94",
   "metadata": {},
   "outputs": [],
   "source": [
    "# !dir/w"
   ]
  },
  {
   "cell_type": "code",
   "execution_count": null,
   "id": "ff828e6a",
   "metadata": {},
   "outputs": [],
   "source": [
    "import cv2\n",
    "import os\n",
    "\n",
    "video_path = \"C:\\\\kjw\\\\old_scada.mp4\"\n",
    "outer_dir = \"C:\\\\kjw\\\\frames\"\n",
    "\n",
    "# 저장폴더 없으면 생성\n",
    "os.makedirs(outer_dir, exist_ok=True)\n",
    "\n",
    "# 비디오 캡처 객체 생성\n",
    "cap = cv2.VideoCapture(video_path)\n",
    "\n",
    "frame_count = 0\n",
    "while True:\n",
    "    ret, frame = cap.read()                           # 두가지 값 리턴\n",
    "    if not ret: break\n",
    "    # 프레임 파일명 지정\n",
    "    frame_filename = os.path.join(outer_dir, f\"frame_{frame_count:04d}.jpg\")\n",
    "    cv2.imwrite(frame_filename, frame)\n",
    "    frame_count += 1\n",
    "\n",
    "cap.release()\n",
    "print(f\"총 {frame_count}개의 프레임을 추출하였습니다.\")\n"
   ]
  },
  {
   "cell_type": "code",
   "execution_count": null,
   "id": "6c6ea53d",
   "metadata": {},
   "outputs": [],
   "source": []
  }
 ],
 "metadata": {
  "kernelspec": {
   "display_name": "Python 3 (ipykernel)",
   "language": "python",
   "name": "python3"
  },
  "language_info": {
   "codemirror_mode": {
    "name": "ipython",
    "version": 3
   },
   "file_extension": ".py",
   "mimetype": "text/x-python",
   "name": "python",
   "nbconvert_exporter": "python",
   "pygments_lexer": "ipython3",
   "version": "3.13.3"
  }
 },
 "nbformat": 4,
 "nbformat_minor": 5
}
